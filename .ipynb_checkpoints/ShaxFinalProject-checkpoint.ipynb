{
 "cells": [
  {
   "cell_type": "code",
   "execution_count": 1,
   "id": "e55cce50",
   "metadata": {},
   "outputs": [],
   "source": [
    "import pandas as pd\n",
    "\n",
    "# Import data\n",
    "plays_df = pd.read_csv(\"Shakespeare_data.csv\")\n",
    "\n",
    "# Do some preliminary reorganization of data\n",
    "plays_df[['Act','Scene','Line']] = plays_df['ActSceneLine'].str.split('.',expand= True).astype(float)\n",
    "plays_df = plays_df.drop('ActSceneLine',axis=1)\n",
    "plays_df.loc[(plays_df.Player == 'Shepard'),'Player']='Shepherd'\n",
    "\n",
    "# Get data from A Winters Tale act 4 scene 4\n",
    "wintersTale_df = plays_df[109775:110737]\n",
    "\n",
    "# Get spoken lines\n",
    "WintersTale_df = plays_df[plays_df['Play'] == 'A Winters Tale']\n",
    "WintersTale4_4_df = WintersTale_df[WintersTale_df['Act'] == 4.0]\n",
    "lines_df = WintersTale4_4_df[WintersTale4_4_df['Scene'] == 4.0]\n",
    "\n",
    "# Get entrances from stage directions\n",
    "entrances_df = wintersTale_df[wintersTale_df['PlayerLine'].str.contains('Enter') | wintersTale_df['PlayerLine'].str.contains('Re-enter')]\n",
    "\n",
    "# Get exits from stage directions\n",
    "exits_df = wintersTale_df[wintersTale_df['PlayerLine'].str.contains('Exit') | wintersTale_df['PlayerLine'].str.contains('Exeunt')]"
   ]
  },
  {
   "cell_type": "code",
   "execution_count": 2,
   "id": "90c9bfe2",
   "metadata": {},
   "outputs": [
    {
     "data": {
      "text/html": [
       "<div>\n",
       "<style scoped>\n",
       "    .dataframe tbody tr th:only-of-type {\n",
       "        vertical-align: middle;\n",
       "    }\n",
       "\n",
       "    .dataframe tbody tr th {\n",
       "        vertical-align: top;\n",
       "    }\n",
       "\n",
       "    .dataframe thead th {\n",
       "        text-align: right;\n",
       "    }\n",
       "</style>\n",
       "<table border=\"1\" class=\"dataframe\">\n",
       "  <thead>\n",
       "    <tr style=\"text-align: right;\">\n",
       "      <th></th>\n",
       "      <th>Dataline</th>\n",
       "      <th>Play</th>\n",
       "      <th>PlayerLinenumber</th>\n",
       "      <th>Player</th>\n",
       "      <th>PlayerLine</th>\n",
       "      <th>Act</th>\n",
       "      <th>Scene</th>\n",
       "      <th>Line</th>\n",
       "    </tr>\n",
       "  </thead>\n",
       "  <tbody>\n",
       "    <tr>\n",
       "      <th>109775</th>\n",
       "      <td>109776</td>\n",
       "      <td>A Winters Tale</td>\n",
       "      <td>35.0</td>\n",
       "      <td>AUTOLYCUS</td>\n",
       "      <td>Enter FLORIZEL and PERDITA</td>\n",
       "      <td>NaN</td>\n",
       "      <td>NaN</td>\n",
       "      <td>NaN</td>\n",
       "    </tr>\n",
       "    <tr>\n",
       "      <th>109839</th>\n",
       "      <td>109840</td>\n",
       "      <td>A Winters Tale</td>\n",
       "      <td>9.0</td>\n",
       "      <td>FLORIZEL</td>\n",
       "      <td>Enter Shepherd, Clown, MOPSA, DORCAS, and othe...</td>\n",
       "      <td>NaN</td>\n",
       "      <td>NaN</td>\n",
       "      <td>NaN</td>\n",
       "    </tr>\n",
       "    <tr>\n",
       "      <th>109989</th>\n",
       "      <td>109990</td>\n",
       "      <td>A Winters Tale</td>\n",
       "      <td>37.0</td>\n",
       "      <td>Shepherd</td>\n",
       "      <td>Enter Servant</td>\n",
       "      <td>NaN</td>\n",
       "      <td>NaN</td>\n",
       "      <td>NaN</td>\n",
       "    </tr>\n",
       "    <tr>\n",
       "      <th>110026</th>\n",
       "      <td>110027</td>\n",
       "      <td>A Winters Tale</td>\n",
       "      <td>47.0</td>\n",
       "      <td>PERDITA</td>\n",
       "      <td>Enter AUTOLYCUS, singing</td>\n",
       "      <td>NaN</td>\n",
       "      <td>NaN</td>\n",
       "      <td>NaN</td>\n",
       "    </tr>\n",
       "    <tr>\n",
       "      <th>110135</th>\n",
       "      <td>110136</td>\n",
       "      <td>A Winters Tale</td>\n",
       "      <td>92.0</td>\n",
       "      <td>AUTOLYCUS</td>\n",
       "      <td>Re-enter Servant</td>\n",
       "      <td>NaN</td>\n",
       "      <td>NaN</td>\n",
       "      <td>NaN</td>\n",
       "    </tr>\n",
       "    <tr>\n",
       "      <th>110473</th>\n",
       "      <td>110474</td>\n",
       "      <td>A Winters Tale</td>\n",
       "      <td>163.0</td>\n",
       "      <td>CAMILLO</td>\n",
       "      <td>Re-enter AUTOLYCUS</td>\n",
       "      <td>NaN</td>\n",
       "      <td>NaN</td>\n",
       "      <td>NaN</td>\n",
       "    </tr>\n",
       "    <tr>\n",
       "      <th>110578</th>\n",
       "      <td>110579</td>\n",
       "      <td>A Winters Tale</td>\n",
       "      <td>189.0</td>\n",
       "      <td>AUTOLYCUS</td>\n",
       "      <td>Re-enter Clown and Shepherd</td>\n",
       "      <td>NaN</td>\n",
       "      <td>NaN</td>\n",
       "      <td>NaN</td>\n",
       "    </tr>\n",
       "  </tbody>\n",
       "</table>\n",
       "</div>"
      ],
      "text/plain": [
       "        Dataline            Play  PlayerLinenumber     Player  \\\n",
       "109775    109776  A Winters Tale              35.0  AUTOLYCUS   \n",
       "109839    109840  A Winters Tale               9.0   FLORIZEL   \n",
       "109989    109990  A Winters Tale              37.0   Shepherd   \n",
       "110026    110027  A Winters Tale              47.0    PERDITA   \n",
       "110135    110136  A Winters Tale              92.0  AUTOLYCUS   \n",
       "110473    110474  A Winters Tale             163.0    CAMILLO   \n",
       "110578    110579  A Winters Tale             189.0  AUTOLYCUS   \n",
       "\n",
       "                                               PlayerLine  Act  Scene  Line  \n",
       "109775                         Enter FLORIZEL and PERDITA  NaN    NaN   NaN  \n",
       "109839  Enter Shepherd, Clown, MOPSA, DORCAS, and othe...  NaN    NaN   NaN  \n",
       "109989                                      Enter Servant  NaN    NaN   NaN  \n",
       "110026                           Enter AUTOLYCUS, singing  NaN    NaN   NaN  \n",
       "110135                                   Re-enter Servant  NaN    NaN   NaN  \n",
       "110473                                 Re-enter AUTOLYCUS  NaN    NaN   NaN  \n",
       "110578                        Re-enter Clown and Shepherd  NaN    NaN   NaN  "
      ]
     },
     "execution_count": 2,
     "metadata": {},
     "output_type": "execute_result"
    }
   ],
   "source": [
    "entrances_df"
   ]
  },
  {
   "cell_type": "code",
   "execution_count": 3,
   "id": "1674a936",
   "metadata": {},
   "outputs": [
    {
     "data": {
      "text/html": [
       "<div>\n",
       "<style scoped>\n",
       "    .dataframe tbody tr th:only-of-type {\n",
       "        vertical-align: middle;\n",
       "    }\n",
       "\n",
       "    .dataframe tbody tr th {\n",
       "        vertical-align: top;\n",
       "    }\n",
       "\n",
       "    .dataframe thead th {\n",
       "        text-align: right;\n",
       "    }\n",
       "</style>\n",
       "<table border=\"1\" class=\"dataframe\">\n",
       "  <thead>\n",
       "    <tr style=\"text-align: right;\">\n",
       "      <th></th>\n",
       "      <th>Dataline</th>\n",
       "      <th>Play</th>\n",
       "      <th>PlayerLinenumber</th>\n",
       "      <th>Player</th>\n",
       "      <th>PlayerLine</th>\n",
       "      <th>Act</th>\n",
       "      <th>Scene</th>\n",
       "      <th>Line</th>\n",
       "    </tr>\n",
       "  </thead>\n",
       "  <tbody>\n",
       "    <tr>\n",
       "      <th>109776</th>\n",
       "      <td>109777</td>\n",
       "      <td>A Winters Tale</td>\n",
       "      <td>1.0</td>\n",
       "      <td>FLORIZEL</td>\n",
       "      <td>These your unusual weeds to each part of you</td>\n",
       "      <td>4.0</td>\n",
       "      <td>4.0</td>\n",
       "      <td>1.0</td>\n",
       "    </tr>\n",
       "    <tr>\n",
       "      <th>109777</th>\n",
       "      <td>109778</td>\n",
       "      <td>A Winters Tale</td>\n",
       "      <td>1.0</td>\n",
       "      <td>FLORIZEL</td>\n",
       "      <td>Do give a life: no shepherdess, but Flora</td>\n",
       "      <td>4.0</td>\n",
       "      <td>4.0</td>\n",
       "      <td>2.0</td>\n",
       "    </tr>\n",
       "    <tr>\n",
       "      <th>109778</th>\n",
       "      <td>109779</td>\n",
       "      <td>A Winters Tale</td>\n",
       "      <td>1.0</td>\n",
       "      <td>FLORIZEL</td>\n",
       "      <td>Peering in April's front. This your sheep-shea...</td>\n",
       "      <td>4.0</td>\n",
       "      <td>4.0</td>\n",
       "      <td>3.0</td>\n",
       "    </tr>\n",
       "    <tr>\n",
       "      <th>109779</th>\n",
       "      <td>109780</td>\n",
       "      <td>A Winters Tale</td>\n",
       "      <td>1.0</td>\n",
       "      <td>FLORIZEL</td>\n",
       "      <td>Is as a meeting of the petty gods,</td>\n",
       "      <td>4.0</td>\n",
       "      <td>4.0</td>\n",
       "      <td>4.0</td>\n",
       "    </tr>\n",
       "    <tr>\n",
       "      <th>109780</th>\n",
       "      <td>109781</td>\n",
       "      <td>A Winters Tale</td>\n",
       "      <td>1.0</td>\n",
       "      <td>FLORIZEL</td>\n",
       "      <td>And you the queen on't.</td>\n",
       "      <td>4.0</td>\n",
       "      <td>4.0</td>\n",
       "      <td>5.0</td>\n",
       "    </tr>\n",
       "    <tr>\n",
       "      <th>...</th>\n",
       "      <td>...</td>\n",
       "      <td>...</td>\n",
       "      <td>...</td>\n",
       "      <td>...</td>\n",
       "      <td>...</td>\n",
       "      <td>...</td>\n",
       "      <td>...</td>\n",
       "      <td>...</td>\n",
       "    </tr>\n",
       "    <tr>\n",
       "      <th>110731</th>\n",
       "      <td>110732</td>\n",
       "      <td>A Winters Tale</td>\n",
       "      <td>240.0</td>\n",
       "      <td>AUTOLYCUS</td>\n",
       "      <td>complaint they have to the king concerns him</td>\n",
       "      <td>4.0</td>\n",
       "      <td>4.0</td>\n",
       "      <td>925.0</td>\n",
       "    </tr>\n",
       "    <tr>\n",
       "      <th>110732</th>\n",
       "      <td>110733</td>\n",
       "      <td>A Winters Tale</td>\n",
       "      <td>240.0</td>\n",
       "      <td>AUTOLYCUS</td>\n",
       "      <td>nothing, let him call me rogue for being so far</td>\n",
       "      <td>4.0</td>\n",
       "      <td>4.0</td>\n",
       "      <td>926.0</td>\n",
       "    </tr>\n",
       "    <tr>\n",
       "      <th>110733</th>\n",
       "      <td>110734</td>\n",
       "      <td>A Winters Tale</td>\n",
       "      <td>240.0</td>\n",
       "      <td>AUTOLYCUS</td>\n",
       "      <td>officious, for I am proof against that title and</td>\n",
       "      <td>4.0</td>\n",
       "      <td>4.0</td>\n",
       "      <td>927.0</td>\n",
       "    </tr>\n",
       "    <tr>\n",
       "      <th>110734</th>\n",
       "      <td>110735</td>\n",
       "      <td>A Winters Tale</td>\n",
       "      <td>240.0</td>\n",
       "      <td>AUTOLYCUS</td>\n",
       "      <td>what shame else belongs to't. To him will I pr...</td>\n",
       "      <td>4.0</td>\n",
       "      <td>4.0</td>\n",
       "      <td>928.0</td>\n",
       "    </tr>\n",
       "    <tr>\n",
       "      <th>110735</th>\n",
       "      <td>110736</td>\n",
       "      <td>A Winters Tale</td>\n",
       "      <td>240.0</td>\n",
       "      <td>AUTOLYCUS</td>\n",
       "      <td>them: there may be matter in it.</td>\n",
       "      <td>4.0</td>\n",
       "      <td>4.0</td>\n",
       "      <td>929.0</td>\n",
       "    </tr>\n",
       "  </tbody>\n",
       "</table>\n",
       "<p>929 rows × 8 columns</p>\n",
       "</div>"
      ],
      "text/plain": [
       "        Dataline            Play  PlayerLinenumber     Player  \\\n",
       "109776    109777  A Winters Tale               1.0   FLORIZEL   \n",
       "109777    109778  A Winters Tale               1.0   FLORIZEL   \n",
       "109778    109779  A Winters Tale               1.0   FLORIZEL   \n",
       "109779    109780  A Winters Tale               1.0   FLORIZEL   \n",
       "109780    109781  A Winters Tale               1.0   FLORIZEL   \n",
       "...          ...             ...               ...        ...   \n",
       "110731    110732  A Winters Tale             240.0  AUTOLYCUS   \n",
       "110732    110733  A Winters Tale             240.0  AUTOLYCUS   \n",
       "110733    110734  A Winters Tale             240.0  AUTOLYCUS   \n",
       "110734    110735  A Winters Tale             240.0  AUTOLYCUS   \n",
       "110735    110736  A Winters Tale             240.0  AUTOLYCUS   \n",
       "\n",
       "                                               PlayerLine  Act  Scene   Line  \n",
       "109776       These your unusual weeds to each part of you  4.0    4.0    1.0  \n",
       "109777          Do give a life: no shepherdess, but Flora  4.0    4.0    2.0  \n",
       "109778  Peering in April's front. This your sheep-shea...  4.0    4.0    3.0  \n",
       "109779                 Is as a meeting of the petty gods,  4.0    4.0    4.0  \n",
       "109780                            And you the queen on't.  4.0    4.0    5.0  \n",
       "...                                                   ...  ...    ...    ...  \n",
       "110731       complaint they have to the king concerns him  4.0    4.0  925.0  \n",
       "110732    nothing, let him call me rogue for being so far  4.0    4.0  926.0  \n",
       "110733   officious, for I am proof against that title and  4.0    4.0  927.0  \n",
       "110734  what shame else belongs to't. To him will I pr...  4.0    4.0  928.0  \n",
       "110735                   them: there may be matter in it.  4.0    4.0  929.0  \n",
       "\n",
       "[929 rows x 8 columns]"
      ]
     },
     "execution_count": 3,
     "metadata": {},
     "output_type": "execute_result"
    }
   ],
   "source": [
    "lines_df"
   ]
  },
  {
   "cell_type": "code",
   "execution_count": 4,
   "id": "4614c8f5",
   "metadata": {},
   "outputs": [
    {
     "data": {
      "text/html": [
       "<div>\n",
       "<style scoped>\n",
       "    .dataframe tbody tr th:only-of-type {\n",
       "        vertical-align: middle;\n",
       "    }\n",
       "\n",
       "    .dataframe tbody tr th {\n",
       "        vertical-align: top;\n",
       "    }\n",
       "\n",
       "    .dataframe thead th {\n",
       "        text-align: right;\n",
       "    }\n",
       "</style>\n",
       "<table border=\"1\" class=\"dataframe\">\n",
       "  <thead>\n",
       "    <tr style=\"text-align: right;\">\n",
       "      <th></th>\n",
       "      <th>Dataline</th>\n",
       "      <th>Play</th>\n",
       "      <th>PlayerLinenumber</th>\n",
       "      <th>Player</th>\n",
       "      <th>PlayerLine</th>\n",
       "      <th>Act</th>\n",
       "      <th>Scene</th>\n",
       "      <th>Line</th>\n",
       "    </tr>\n",
       "  </thead>\n",
       "  <tbody>\n",
       "    <tr>\n",
       "      <th>110022</th>\n",
       "      <td>110023</td>\n",
       "      <td>A Winters Tale</td>\n",
       "      <td>45.0</td>\n",
       "      <td>PERDITA</td>\n",
       "      <td>Exit Servant</td>\n",
       "      <td>NaN</td>\n",
       "      <td>NaN</td>\n",
       "      <td>NaN</td>\n",
       "    </tr>\n",
       "    <tr>\n",
       "      <th>110122</th>\n",
       "      <td>110123</td>\n",
       "      <td>A Winters Tale</td>\n",
       "      <td>91.0</td>\n",
       "      <td>Clown</td>\n",
       "      <td>Exit with DORCAS and MOPSA</td>\n",
       "      <td>NaN</td>\n",
       "      <td>NaN</td>\n",
       "      <td>NaN</td>\n",
       "    </tr>\n",
       "    <tr>\n",
       "      <th>110134</th>\n",
       "      <td>110135</td>\n",
       "      <td>A Winters Tale</td>\n",
       "      <td>92.0</td>\n",
       "      <td>AUTOLYCUS</td>\n",
       "      <td>Exit</td>\n",
       "      <td>NaN</td>\n",
       "      <td>NaN</td>\n",
       "      <td>NaN</td>\n",
       "    </tr>\n",
       "    <tr>\n",
       "      <th>110154</th>\n",
       "      <td>110155</td>\n",
       "      <td>A Winters Tale</td>\n",
       "      <td>98.0</td>\n",
       "      <td>Servant</td>\n",
       "      <td>Exit</td>\n",
       "      <td>NaN</td>\n",
       "      <td>NaN</td>\n",
       "      <td>NaN</td>\n",
       "    </tr>\n",
       "    <tr>\n",
       "      <th>110282</th>\n",
       "      <td>110283</td>\n",
       "      <td>A Winters Tale</td>\n",
       "      <td>128.0</td>\n",
       "      <td>POLIXENES</td>\n",
       "      <td>Exit</td>\n",
       "      <td>NaN</td>\n",
       "      <td>NaN</td>\n",
       "      <td>NaN</td>\n",
       "    </tr>\n",
       "    <tr>\n",
       "      <th>110308</th>\n",
       "      <td>110309</td>\n",
       "      <td>A Winters Tale</td>\n",
       "      <td>131.0</td>\n",
       "      <td>Shepherd</td>\n",
       "      <td>Exit</td>\n",
       "      <td>NaN</td>\n",
       "      <td>NaN</td>\n",
       "      <td>NaN</td>\n",
       "    </tr>\n",
       "    <tr>\n",
       "      <th>110563</th>\n",
       "      <td>110564</td>\n",
       "      <td>A Winters Tale</td>\n",
       "      <td>188.0</td>\n",
       "      <td>CAMILLO</td>\n",
       "      <td>Exeunt FLORIZEL, PERDITA, and CAMILLO</td>\n",
       "      <td>NaN</td>\n",
       "      <td>NaN</td>\n",
       "      <td>NaN</td>\n",
       "    </tr>\n",
       "    <tr>\n",
       "      <th>110723</th>\n",
       "      <td>110724</td>\n",
       "      <td>A Winters Tale</td>\n",
       "      <td>239.0</td>\n",
       "      <td>Shepherd</td>\n",
       "      <td>Exeunt Shepherd and Clown</td>\n",
       "      <td>NaN</td>\n",
       "      <td>NaN</td>\n",
       "      <td>NaN</td>\n",
       "    </tr>\n",
       "    <tr>\n",
       "      <th>110736</th>\n",
       "      <td>110737</td>\n",
       "      <td>A Winters Tale</td>\n",
       "      <td>240.0</td>\n",
       "      <td>AUTOLYCUS</td>\n",
       "      <td>Exit</td>\n",
       "      <td>NaN</td>\n",
       "      <td>NaN</td>\n",
       "      <td>NaN</td>\n",
       "    </tr>\n",
       "  </tbody>\n",
       "</table>\n",
       "</div>"
      ],
      "text/plain": [
       "        Dataline            Play  PlayerLinenumber     Player  \\\n",
       "110022    110023  A Winters Tale              45.0    PERDITA   \n",
       "110122    110123  A Winters Tale              91.0      Clown   \n",
       "110134    110135  A Winters Tale              92.0  AUTOLYCUS   \n",
       "110154    110155  A Winters Tale              98.0    Servant   \n",
       "110282    110283  A Winters Tale             128.0  POLIXENES   \n",
       "110308    110309  A Winters Tale             131.0   Shepherd   \n",
       "110563    110564  A Winters Tale             188.0    CAMILLO   \n",
       "110723    110724  A Winters Tale             239.0   Shepherd   \n",
       "110736    110737  A Winters Tale             240.0  AUTOLYCUS   \n",
       "\n",
       "                                   PlayerLine  Act  Scene  Line  \n",
       "110022                           Exit Servant  NaN    NaN   NaN  \n",
       "110122             Exit with DORCAS and MOPSA  NaN    NaN   NaN  \n",
       "110134                                   Exit  NaN    NaN   NaN  \n",
       "110154                                   Exit  NaN    NaN   NaN  \n",
       "110282                                   Exit  NaN    NaN   NaN  \n",
       "110308                                   Exit  NaN    NaN   NaN  \n",
       "110563  Exeunt FLORIZEL, PERDITA, and CAMILLO  NaN    NaN   NaN  \n",
       "110723              Exeunt Shepherd and Clown  NaN    NaN   NaN  \n",
       "110736                                   Exit  NaN    NaN   NaN  "
      ]
     },
     "execution_count": 4,
     "metadata": {},
     "output_type": "execute_result"
    }
   ],
   "source": [
    "exits_df"
   ]
  },
  {
   "cell_type": "code",
   "execution_count": 5,
   "id": "9b8c3b32",
   "metadata": {},
   "outputs": [
    {
     "data": {
      "text/html": [
       "<div>\n",
       "<style scoped>\n",
       "    .dataframe tbody tr th:only-of-type {\n",
       "        vertical-align: middle;\n",
       "    }\n",
       "\n",
       "    .dataframe tbody tr th {\n",
       "        vertical-align: top;\n",
       "    }\n",
       "\n",
       "    .dataframe thead th {\n",
       "        text-align: right;\n",
       "    }\n",
       "</style>\n",
       "<table border=\"1\" class=\"dataframe\">\n",
       "  <thead>\n",
       "    <tr style=\"text-align: right;\">\n",
       "      <th></th>\n",
       "      <th>Player</th>\n",
       "      <th>Count</th>\n",
       "    </tr>\n",
       "  </thead>\n",
       "  <tbody>\n",
       "    <tr>\n",
       "      <th>0</th>\n",
       "      <td>AUTOLYCUS</td>\n",
       "      <td>189</td>\n",
       "    </tr>\n",
       "    <tr>\n",
       "      <th>1</th>\n",
       "      <td>CAMILLO</td>\n",
       "      <td>131</td>\n",
       "    </tr>\n",
       "    <tr>\n",
       "      <th>2</th>\n",
       "      <td>Clown</td>\n",
       "      <td>74</td>\n",
       "    </tr>\n",
       "    <tr>\n",
       "      <th>3</th>\n",
       "      <td>DORCAS</td>\n",
       "      <td>12</td>\n",
       "    </tr>\n",
       "    <tr>\n",
       "      <th>4</th>\n",
       "      <td>FLORIZEL</td>\n",
       "      <td>168</td>\n",
       "    </tr>\n",
       "    <tr>\n",
       "      <th>5</th>\n",
       "      <td>MOPSA</td>\n",
       "      <td>20</td>\n",
       "    </tr>\n",
       "    <tr>\n",
       "      <th>6</th>\n",
       "      <td>PERDITA</td>\n",
       "      <td>121</td>\n",
       "    </tr>\n",
       "    <tr>\n",
       "      <th>7</th>\n",
       "      <td>POLIXENES</td>\n",
       "      <td>95</td>\n",
       "    </tr>\n",
       "    <tr>\n",
       "      <th>8</th>\n",
       "      <td>Servant</td>\n",
       "      <td>35</td>\n",
       "    </tr>\n",
       "    <tr>\n",
       "      <th>9</th>\n",
       "      <td>Shepherd</td>\n",
       "      <td>84</td>\n",
       "    </tr>\n",
       "  </tbody>\n",
       "</table>\n",
       "</div>"
      ],
      "text/plain": [
       "      Player  Count\n",
       "0  AUTOLYCUS    189\n",
       "1    CAMILLO    131\n",
       "2      Clown     74\n",
       "3     DORCAS     12\n",
       "4   FLORIZEL    168\n",
       "5      MOPSA     20\n",
       "6    PERDITA    121\n",
       "7  POLIXENES     95\n",
       "8    Servant     35\n",
       "9   Shepherd     84"
      ]
     },
     "execution_count": 5,
     "metadata": {},
     "output_type": "execute_result"
    }
   ],
   "source": [
    "# Get list of characters in scene and count their total number of lines\n",
    "characters_df = lines_df.groupby(['Player']).size().reset_index()\n",
    "characters_df.rename(columns = {0: 'Count'}, inplace = True)\n",
    "characters_df"
   ]
  },
  {
   "cell_type": "code",
   "execution_count": 6,
   "id": "01205ccd",
   "metadata": {},
   "outputs": [],
   "source": [
    "# Get coappearances of characters\n",
    "inlist = entrances_df.index.values.tolist()\n",
    "outlist = exits_df.index.values.tolist()\n",
    "inoutlist = inlist\n",
    "for out in outlist:\n",
    "    inoutlist.append(out)\n",
    "inoutlist.sort()\n",
    "\n",
    "co_ap = []\n",
    "for change in range(len(inoutlist)-1):\n",
    "    co_ap.append(plays_df[inoutlist[change]+1:inoutlist[change+1]])"
   ]
  },
  {
   "cell_type": "code",
   "execution_count": 7,
   "id": "f0e563dc",
   "metadata": {},
   "outputs": [],
   "source": [
    "# Count number of lines each character speaks in each coappearance\n",
    "num_lines = []\n",
    "for coappearance in co_ap:\n",
    "    tmp_df = coappearance.groupby(['Player']).size().reset_index()\n",
    "    tmp_df.rename(columns = {0: 'Count'}, inplace = True)\n",
    "    num_lines.append(tmp_df)"
   ]
  },
  {
   "cell_type": "code",
   "execution_count": 8,
   "id": "36578523",
   "metadata": {},
   "outputs": [
    {
     "data": {
      "text/plain": [
       "{'AUTOLYCUS': {'CAMILLO': 37,\n",
       "  'Clown': 121,\n",
       "  'DORCAS': 44,\n",
       "  'FLORIZEL': 37,\n",
       "  'MOPSA': 44,\n",
       "  'PERDITA': 37,\n",
       "  'POLIXENES': 0,\n",
       "  'Servant': 0,\n",
       "  'Shepherd': 77},\n",
       " 'CAMILLO': {'AUTOLYCUS': 40,\n",
       "  'Clown': 5,\n",
       "  'DORCAS': 5,\n",
       "  'FLORIZEL': 133,\n",
       "  'MOPSA': 5,\n",
       "  'PERDITA': 135,\n",
       "  'POLIXENES': 6,\n",
       "  'Servant': 1,\n",
       "  'Shepherd': 8},\n",
       " 'Clown': {'AUTOLYCUS': 62,\n",
       "  'CAMILLO': 4,\n",
       "  'DORCAS': 26,\n",
       "  'FLORIZEL': 4,\n",
       "  'MOPSA': 26,\n",
       "  'PERDITA': 13,\n",
       "  'POLIXENES': 11,\n",
       "  'Servant': 7,\n",
       "  'Shepherd': 44},\n",
       " 'DORCAS': {'AUTOLYCUS': 10,\n",
       "  'CAMILLO': 2,\n",
       "  'Clown': 12,\n",
       "  'FLORIZEL': 2,\n",
       "  'MOPSA': 12,\n",
       "  'PERDITA': 2,\n",
       "  'POLIXENES': 2,\n",
       "  'Servant': 0,\n",
       "  'Shepherd': 2},\n",
       " 'FLORIZEL': {'AUTOLYCUS': 8,\n",
       "  'CAMILLO': 134,\n",
       "  'Clown': 18,\n",
       "  'DORCAS': 18,\n",
       "  'MOPSA': 18,\n",
       "  'PERDITA': 169,\n",
       "  'POLIXENES': 57,\n",
       "  'Servant': 39,\n",
       "  'Shepherd': 57},\n",
       " 'MOPSA': {'AUTOLYCUS': 19,\n",
       "  'CAMILLO': 1,\n",
       "  'Clown': 20,\n",
       "  'DORCAS': 20,\n",
       "  'FLORIZEL': 1,\n",
       "  'PERDITA': 1,\n",
       "  'POLIXENES': 1,\n",
       "  'Servant': 0,\n",
       "  'Shepherd': 1},\n",
       " 'PERDITA': {'AUTOLYCUS': 4,\n",
       "  'CAMILLO': 92,\n",
       "  'Clown': 68,\n",
       "  'DORCAS': 66,\n",
       "  'FLORIZEL': 110,\n",
       "  'MOPSA': 66,\n",
       "  'POLIXENES': 71,\n",
       "  'Servant': 5,\n",
       "  'Shepherd': 80},\n",
       " 'POLIXENES': {'AUTOLYCUS': 0,\n",
       "  'CAMILLO': 95,\n",
       "  'Clown': 25,\n",
       "  'DORCAS': 24,\n",
       "  'FLORIZEL': 95,\n",
       "  'MOPSA': 24,\n",
       "  'PERDITA': 96,\n",
       "  'Servant': 74,\n",
       "  'Shepherd': 97},\n",
       " 'Servant': {'AUTOLYCUS': 0,\n",
       "  'CAMILLO': 1,\n",
       "  'Clown': 23,\n",
       "  'DORCAS': 0,\n",
       "  'FLORIZEL': 1,\n",
       "  'MOPSA': 0,\n",
       "  'PERDITA': 24,\n",
       "  'POLIXENES': 36,\n",
       "  'Shepherd': 13},\n",
       " 'Shepherd': {'AUTOLYCUS': 27,\n",
       "  'CAMILLO': 53,\n",
       "  'Clown': 56,\n",
       "  'DORCAS': 29,\n",
       "  'FLORIZEL': 40,\n",
       "  'MOPSA': 29,\n",
       "  'PERDITA': 53,\n",
       "  'POLIXENES': 44,\n",
       "  'Servant': 15}}"
      ]
     },
     "execution_count": 8,
     "metadata": {},
     "output_type": "execute_result"
    }
   ],
   "source": [
    "# Count the number of lines each character speaks in the presence of each other character\n",
    "interactions_count = {}\n",
    "for character in characters_df['Player']:\n",
    "    companions = {}\n",
    "    for companion in characters_df['Player']:\n",
    "        if companion != character:\n",
    "            companions[companion] = 0\n",
    "    interactions_count[character] = companions\n",
    "\n",
    "for interaction in num_lines:\n",
    "    for character in interaction['Player']:\n",
    "        for companion in interaction['Player']:\n",
    "            if character != companion:\n",
    "                interactions_count[character][companion] += interaction.loc[interaction['Player'] == character, 'Count'].values[0]\n",
    "                #interactions_count[character][companion] += interaction.loc[interaction['Player'] == companion, 'Count'].values[0]\n",
    "        \n",
    "interactions_count"
   ]
  },
  {
   "cell_type": "markdown",
   "id": "42856758",
   "metadata": {},
   "source": [
    "## Graph the network"
   ]
  },
  {
   "cell_type": "code",
   "execution_count": 9,
   "id": "0fad6b5c",
   "metadata": {},
   "outputs": [
    {
     "data": {
      "text/html": [
       "        <script type=\"text/javascript\">\n",
       "        window.PlotlyConfig = {MathJaxConfig: 'local'};\n",
       "        if (window.MathJax) {MathJax.Hub.Config({SVG: {font: \"STIX-Web\"}});}\n",
       "        if (typeof require !== 'undefined') {\n",
       "        require.undef(\"plotly\");\n",
       "        requirejs.config({\n",
       "            paths: {\n",
       "                'plotly': ['https://cdn.plot.ly/plotly-latest.min']\n",
       "            }\n",
       "        });\n",
       "        require(['plotly'], function(Plotly) {\n",
       "            window._Plotly = Plotly;\n",
       "        });\n",
       "        }\n",
       "        </script>\n",
       "        "
      ]
     },
     "metadata": {},
     "output_type": "display_data"
    }
   ],
   "source": [
    "import math\n",
    "import numpy as np\n",
    "import plotly.offline as py\n",
    "import plotly.graph_objects as go\n",
    "import networkx as nx\n",
    "import re\n",
    "import matplotlib.pyplot as plt\n",
    "\n",
    "py.init_notebook_mode(connected=True)\n",
    "A_Winters_Tale = nx.Graph()"
   ]
  },
  {
   "cell_type": "code",
   "execution_count": 10,
   "id": "efa8ae8b",
   "metadata": {},
   "outputs": [],
   "source": [
    "# Add node for each character\n",
    "for char in characters_df['Player']:\n",
    "    A_Winters_Tale.add_node(char, size = 6*(characters_df.loc[characters_df['Player'] == char, 'Count'].values[0]))\n",
    "#    A_Winters_Tale.add_node(char, size = 6*(characters_df.loc[characters_df['Player'] == char, 'Count'].values[0])/100)"
   ]
  },
  {
   "cell_type": "code",
   "execution_count": 11,
   "id": "a27adbdc",
   "metadata": {},
   "outputs": [
    {
     "data": {
      "text/plain": [
       "NodeView(('AUTOLYCUS', 'CAMILLO', 'Clown', 'DORCAS', 'FLORIZEL', 'MOPSA', 'PERDITA', 'POLIXENES', 'Servant', 'Shepherd'))"
      ]
     },
     "execution_count": 11,
     "metadata": {},
     "output_type": "execute_result"
    }
   ],
   "source": [
    "A_Winters_Tale.nodes"
   ]
  },
  {
   "cell_type": "code",
   "execution_count": 12,
   "id": "c95978e7",
   "metadata": {},
   "outputs": [],
   "source": [
    "# For each co-appearance between two characters, add an edge\n",
    "for char in interactions_count.keys():\n",
    "    for co_char in interactions_count[char].keys():\n",
    "        \n",
    "        # Only add edge if the count is positive\n",
    "        if interactions_count[char][co_char] > 0:\n",
    "            A_Winters_Tale.add_edge(char, co_char, weight = (5*(interactions_count[char][co_char]) / 100))\n"
   ]
  },
  {
   "cell_type": "code",
   "execution_count": 13,
   "id": "054e3bfe",
   "metadata": {},
   "outputs": [
    {
     "data": {
      "text/plain": [
       "[('CAMILLO', 1.0),\n",
       " ('Clown', 1.0),\n",
       " ('FLORIZEL', 1.0),\n",
       " ('PERDITA', 1.0),\n",
       " ('Shepherd', 1.0),\n",
       " ('DORCAS', 0.8888888888888888),\n",
       " ('MOPSA', 0.8888888888888888),\n",
       " ('POLIXENES', 0.8888888888888888),\n",
       " ('AUTOLYCUS', 0.7777777777777777),\n",
       " ('Servant', 0.6666666666666666)]"
      ]
     },
     "execution_count": 13,
     "metadata": {},
     "output_type": "execute_result"
    }
   ],
   "source": [
    "sorted(nx.degree_centrality(A_Winters_Tale).items(), key=lambda x: -x[1])[:]"
   ]
  },
  {
   "cell_type": "code",
   "execution_count": 14,
   "id": "67e5348b",
   "metadata": {},
   "outputs": [
    {
     "data": {
      "image/png": "[encoded data removed]",
      "text/plain": [
       "<Figure size 1008x576 with 1 Axes>"
      ]
     },
     "metadata": {},
     "output_type": "display_data"
    }
   ],
   "source": [
    "plt.figure(figsize=(14,8))  # make the figure size a little larger\n",
    "plt.axis('off')  # remove the axis, which isn't meaningful in this case\n",
    "plt.title(\"The Winter's Tale Social Network\", fontsize=20)\n",
    "\n",
    "# The 'k' argument determines how spaced out the nodes will be from\n",
    "# one another on the graph.\n",
    "pos = nx.spring_layout(A_Winters_Tale, k=0.5)\n",
    "\n",
    "node_size = [data['size'] for __, data in A_Winters_Tale.nodes(data=True)]\n",
    "\n",
    "\n",
    "nx.draw_networkx(\n",
    "    A_Winters_Tale,\n",
    "    pos=pos,\n",
    "#    node_size = node_size,\n",
    "    edge_color='gray',  # change edge color\n",
    "    alpha=0.3,  # make nodes more transparent to make labels clearer\n",
    "    font_size=14,\n",
    "    with_labels=True,\n",
    "    font_color=\"k\"\n",
    ")"
   ]
  },
  {
   "cell_type": "code",
   "execution_count": 15,
   "id": "c52f2ec8",
   "metadata": {},
   "outputs": [
    {
     "data": {
      "text/plain": [
       "EdgeView([('AUTOLYCUS', 'CAMILLO'), ('AUTOLYCUS', 'Clown'), ('AUTOLYCUS', 'DORCAS'), ('AUTOLYCUS', 'FLORIZEL'), ('AUTOLYCUS', 'MOPSA'), ('AUTOLYCUS', 'PERDITA'), ('AUTOLYCUS', 'Shepherd'), ('CAMILLO', 'Clown'), ('CAMILLO', 'DORCAS'), ('CAMILLO', 'FLORIZEL'), ('CAMILLO', 'MOPSA'), ('CAMILLO', 'PERDITA'), ('CAMILLO', 'POLIXENES'), ('CAMILLO', 'Servant'), ('CAMILLO', 'Shepherd'), ('Clown', 'DORCAS'), ('Clown', 'FLORIZEL'), ('Clown', 'MOPSA'), ('Clown', 'PERDITA'), ('Clown', 'POLIXENES'), ('Clown', 'Servant'), ('Clown', 'Shepherd'), ('DORCAS', 'FLORIZEL'), ('DORCAS', 'MOPSA'), ('DORCAS', 'PERDITA'), ('DORCAS', 'POLIXENES'), ('DORCAS', 'Shepherd'), ('FLORIZEL', 'MOPSA'), ('FLORIZEL', 'PERDITA'), ('FLORIZEL', 'POLIXENES'), ('FLORIZEL', 'Servant'), ('FLORIZEL', 'Shepherd'), ('MOPSA', 'PERDITA'), ('MOPSA', 'POLIXENES'), ('MOPSA', 'Shepherd'), ('PERDITA', 'POLIXENES'), ('PERDITA', 'Servant'), ('PERDITA', 'Shepherd'), ('POLIXENES', 'Servant'), ('POLIXENES', 'Shepherd'), ('Servant', 'Shepherd')])"
      ]
     },
     "execution_count": 15,
     "metadata": {},
     "output_type": "execute_result"
    }
   ],
   "source": [
    "A_Winters_Tale.edges()"
   ]
  },
  {
   "cell_type": "code",
   "execution_count": 16,
   "id": "4c64392c",
   "metadata": {},
   "outputs": [],
   "source": [
    "pos_ = nx.spring_layout(A_Winters_Tale)"
   ]
  },
  {
   "cell_type": "code",
   "execution_count": 17,
   "id": "3daf15e1",
   "metadata": {},
   "outputs": [
    {
     "data": {
      "text/plain": [
       "{'AUTOLYCUS': array([-0.50843995, -0.66548516]),\n",
       " 'CAMILLO': array([ 0.53187462, -0.29662197]),\n",
       " 'Clown': array([-0.45202839, -0.09549786]),\n",
       " 'DORCAS': array([-0.62332353,  0.29583196]),\n",
       " 'FLORIZEL': array([0.57441477, 0.24693788]),\n",
       " 'MOPSA': array([-0.02772152, -0.73543212]),\n",
       " 'PERDITA': array([ 0.06053984, -0.08626445]),\n",
       " 'POLIXENES': array([0.34969218, 0.09377655]),\n",
       " 'Servant': array([0.1814824, 1.       ]),\n",
       " 'Shepherd': array([-0.08649041,  0.24275518])}"
      ]
     },
     "execution_count": 17,
     "metadata": {},
     "output_type": "execute_result"
    }
   ],
   "source": [
    "pos_"
   ]
  },
  {
   "cell_type": "code",
   "execution_count": 18,
   "id": "38fe2b61",
   "metadata": {},
   "outputs": [
    {
     "data": {
      "text/plain": [
       "{'weight': 2.0}"
      ]
     },
     "execution_count": 18,
     "metadata": {},
     "output_type": "execute_result"
    }
   ],
   "source": [
    "A_Winters_Tale.edges()[('AUTOLYCUS','CAMILLO')]"
   ]
  },
  {
   "cell_type": "code",
   "execution_count": 19,
   "id": "47a0ee10",
   "metadata": {},
   "outputs": [],
   "source": [
    "def make_edge(x, y, text, width):\n",
    "    \n",
    "    '''Creates a scatter trace for the edge between x's and y's with given width\n",
    "\n",
    "    Parameters\n",
    "    ----------\n",
    "    x    : a tuple of the endpoints' x-coordinates in the form, tuple([x0, x1, None])\n",
    "    \n",
    "    y    : a tuple of the endpoints' y-coordinates in the form, tuple([y0, y1, None])\n",
    "    \n",
    "    width: the width of the line\n",
    "\n",
    "    Returns\n",
    "    -------\n",
    "    An edge trace that goes between x0 and x1 with specified width.\n",
    "    '''\n",
    "    return  go.Scatter(x         = x,\n",
    "                       y         = y,\n",
    "                       line      = dict(width = width,\n",
    "                                   color = 'cornflowerblue'),\n",
    "                       hoverinfo = 'text',\n",
    "                       text      = ([text]),\n",
    "                       mode      = 'lines')"
   ]
  },
  {
   "cell_type": "code",
   "execution_count": 20,
   "id": "ce4c0b65",
   "metadata": {},
   "outputs": [],
   "source": [
    "# For each edge, make an edge_trace, append to list\n",
    "edge_trace = []\n",
    "for edge in A_Winters_Tale.edges():\n",
    "    \n",
    "    if A_Winters_Tale.edges()[edge]['weight'] > 0:\n",
    "        char_1 = edge[0]\n",
    "        char_2 = edge[1]\n",
    "\n",
    "        x0, y0 = pos_[char_1]\n",
    "        x1, y1 = pos_[char_2]\n",
    "\n",
    "        text   = char_1 + '--' + char_2 + ': ' + str(A_Winters_Tale.edges()[edge]['weight'])\n",
    "        \n",
    "        trace  = make_edge([x0, x1, None], [y0, y1, None], text,\n",
    "                           0.3*A_Winters_Tale.edges()[edge]['weight']**1.75)\n",
    "\n",
    "        edge_trace.append(trace)"
   ]
  },
  {
   "cell_type": "code",
   "execution_count": 21,
   "id": "6c927029",
   "metadata": {},
   "outputs": [],
   "source": [
    "# Make a node trace\n",
    "node_trace = go.Scatter(x         = [],\n",
    "                        y         = [],\n",
    "                        text      = [],\n",
    "                        textposition = \"top center\",\n",
    "                        textfont_size = 10,\n",
    "                        mode      = 'markers+text',\n",
    "                        hoverinfo = 'none',\n",
    "                        marker    = dict(color = [],\n",
    "                                         size  = [],\n",
    "                                         line  = None))\n",
    "# For each node in midsummer, get the position and size and add to the node_trace\n",
    "for node in A_Winters_Tale.nodes():\n",
    "    x, y = pos_[node]\n",
    "    node_trace['x'] += tuple([x])\n",
    "    node_trace['y'] += tuple([y])\n",
    "    node_trace['marker']['color'] += tuple(['cornflowerblue'])\n",
    "    node_trace['marker']['size'] += tuple([5*A_Winters_Tale.nodes()[node]['size']])\n",
    "    node_trace['text'] += tuple(['<b>' + node + '</b>'])"
   ]
  },
  {
   "cell_type": "code",
   "execution_count": 22,
   "id": "ebd4f025",
   "metadata": {},
   "outputs": [
    {
     "data": {
      "application/vnd.plotly.v1+json": {
       "config": {
        "plotlyServerURL": "https://plot.ly"
       },
       "data": [
        {
         "hoverinfo": "text",
         "line": {
          "color": "cornflowerblue",
          "width": 1.0090756983044573
         },
         "mode": "lines",
         "text": [
          "AUTOLYCUS--CAMILLO: 2.0"
         ],
         "type": "scatter",
         "x": [
          -0.508439948169892,
          0.5318746193957582,
          null
         ],
         "y": [
          -0.6654851612295354,
          -0.2966219686325922,
          null
         ]
        },
        {
         "hoverinfo": "text",
         "line": {
          "color": "cornflowerblue",
          "width": 2.172722285551274
         },
         "mode": "lines",
         "text": [
          "AUTOLYCUS--Clown: 3.1"
         ],
         "type": "scatter",
         "x": [
          -0.508439948169892,
          -0.4520283925048223,
          null
         ],
         "y": [
          -0.6654851612295354,
          -0.09549786119821281,
          null
         ]
        },
        {
         "hoverinfo": "text",
         "line": {
          "color": "cornflowerblue",
          "width": 0.08919053362520407
         },
         "mode": "lines",
         "text": [
          "AUTOLYCUS--DORCAS: 0.5"
         ],
         "type": "scatter",
         "x": [
          -0.508439948169892,
          -0.6233235273262008,
          null
         ],
         "y": [
          -0.6654851612295354,
          0.2958319626602499,
          null
         ]
        },
        {
         "hoverinfo": "text",
         "line": {
          "color": "cornflowerblue",
          "width": 0.06035680462478091
         },
         "mode": "lines",
         "text": [
          "AUTOLYCUS--FLORIZEL: 0.4"
         ],
         "type": "scatter",
         "x": [
          -0.508439948169892,
          0.5744147658947862,
          null
         ],
         "y": [
          -0.6654851612295354,
          0.24693788131499958,
          null
         ]
        },
        {
         "hoverinfo": "text",
         "line": {
          "color": "cornflowerblue",
          "width": 0.27424427106582416
         },
         "mode": "lines",
         "text": [
          "AUTOLYCUS--MOPSA: 0.95"
         ],
         "type": "scatter",
         "x": [
          -0.508439948169892,
          -0.027721520777830827,
          null
         ],
         "y": [
          -0.6654851612295354,
          -0.7354321235314945,
          null
         ]
        },
        {
         "hoverinfo": "text",
         "line": {
          "color": "cornflowerblue",
          "width": 0.01794418537465465
         },
         "mode": "lines",
         "text": [
          "AUTOLYCUS--PERDITA: 0.2"
         ],
         "type": "scatter",
         "x": [
          -0.508439948169892,
          0.06053983664920965,
          null
         ],
         "y": [
          -0.6654851612295354,
          -0.08626445416797977,
          null
         ]
        },
        {
         "hoverinfo": "text",
         "line": {
          "color": "cornflowerblue",
          "width": 0.5072304878568292
         },
         "mode": "lines",
         "text": [
          "AUTOLYCUS--Shepherd: 1.35"
         ],
         "type": "scatter",
         "x": [
          -0.508439948169892,
          -0.08649041288833349,
          null
         ],
         "y": [
          -0.6654851612295354,
          0.24275517874137242,
          null
         ]
        },
        {
         "hoverinfo": "text",
         "line": {
          "color": "cornflowerblue",
          "width": 0.01794418537465465
         },
         "mode": "lines",
         "text": [
          "CAMILLO--Clown: 0.2"
         ],
         "type": "scatter",
         "x": [
          0.5318746193957582,
          -0.4520283925048223,
          null
         ],
         "y": [
          -0.2966219686325922,
          -0.09549786119821281,
          null
         ]
        },
        {
         "hoverinfo": "text",
         "line": {
          "color": "cornflowerblue",
          "width": 0.005334838230116768
         },
         "mode": "lines",
         "text": [
          "CAMILLO--DORCAS: 0.1"
         ],
         "type": "scatter",
         "x": [
          0.5318746193957582,
          -0.6233235273262008,
          null
         ],
         "y": [
          -0.2966219686325922,
          0.2958319626602499,
          null
         ]
        },
        {
         "hoverinfo": "text",
         "line": {
          "color": "cornflowerblue",
          "width": 8.370514623234188
         },
         "mode": "lines",
         "text": [
          "CAMILLO--FLORIZEL: 6.7"
         ],
         "type": "scatter",
         "x": [
          0.5318746193957582,
          0.5744147658947862,
          null
         ],
         "y": [
          -0.2966219686325922,
          0.24693788131499958,
          null
         ]
        },
        {
         "hoverinfo": "text",
         "line": {
          "color": "cornflowerblue",
          "width": 0.0015860568951608462
         },
         "mode": "lines",
         "text": [
          "CAMILLO--MOPSA: 0.05"
         ],
         "type": "scatter",
         "x": [
          0.5318746193957582,
          -0.027721520777830827,
          null
         ],
         "y": [
          -0.2966219686325922,
          -0.7354321235314945,
          null
         ]
        },
        {
         "hoverinfo": "text",
         "line": {
          "color": "cornflowerblue",
          "width": 4.334584365205041
         },
         "mode": "lines",
         "text": [
          "CAMILLO--PERDITA: 4.6"
         ],
         "type": "scatter",
         "x": [
          0.5318746193957582,
          0.06053983664920965,
          null
         ],
         "y": [
          -0.2966219686325922,
          -0.08626445416797977,
          null
         ]
        },
        {
         "hoverinfo": "text",
         "line": {
          "color": "cornflowerblue",
          "width": 4.584954936764896
         },
         "mode": "lines",
         "text": [
          "CAMILLO--POLIXENES: 4.75"
         ],
         "type": "scatter",
         "x": [
          0.5318746193957582,
          0.34969217610037684,
          null
         ],
         "y": [
          -0.2966219686325922,
          0.09377654604319183,
          null
         ]
        },
        {
         "hoverinfo": "text",
         "line": {
          "color": "cornflowerblue",
          "width": 0.0015860568951608462
         },
         "mode": "lines",
         "text": [
          "CAMILLO--Servant: 0.05"
         ],
         "type": "scatter",
         "x": [
          0.5318746193957582,
          0.18148240362694995,
          null
         ],
         "y": [
          -0.2966219686325922,
          1,
          null
         ]
        },
        {
         "hoverinfo": "text",
         "line": {
          "color": "cornflowerblue",
          "width": 1.65120704959167
         },
         "mode": "lines",
         "text": [
          "CAMILLO--Shepherd: 2.65"
         ],
         "type": "scatter",
         "x": [
          0.5318746193957582,
          -0.08649041288833349,
          null
         ],
         "y": [
          -0.2966219686325922,
          0.24275517874137242,
          null
         ]
        },
        {
         "hoverinfo": "text",
         "line": {
          "color": "cornflowerblue",
          "width": 0.12271169157848992
         },
         "mode": "lines",
         "text": [
          "Clown--DORCAS: 0.6"
         ],
         "type": "scatter",
         "x": [
          -0.4520283925048223,
          -0.6233235273262008,
          null
         ],
         "y": [
          -0.09549786119821281,
          0.2958319626602499,
          null
         ]
        },
        {
         "hoverinfo": "text",
         "line": {
          "color": "cornflowerblue",
          "width": 0.24948569334752285
         },
         "mode": "lines",
         "text": [
          "Clown--FLORIZEL: 0.9"
         ],
         "type": "scatter",
         "x": [
          -0.4520283925048223,
          0.5744147658947862,
          null
         ],
         "y": [
          -0.09549786119821281,
          0.24693788131499958,
          null
         ]
        },
        {
         "hoverinfo": "text",
         "line": {
          "color": "cornflowerblue",
          "width": 0.3
         },
         "mode": "lines",
         "text": [
          "Clown--MOPSA: 1.0"
         ],
         "type": "scatter",
         "x": [
          -0.4520283925048223,
          -0.027721520777830827,
          null
         ],
         "y": [
          -0.09549786119821281,
          -0.7354321235314945,
          null
         ]
        },
        {
         "hoverinfo": "text",
         "line": {
          "color": "cornflowerblue",
          "width": 2.5539321753503774
         },
         "mode": "lines",
         "text": [
          "Clown--PERDITA: 3.4"
         ],
         "type": "scatter",
         "x": [
          -0.4520283925048223,
          0.06053983664920965,
          null
         ],
         "y": [
          -0.09549786119821281,
          -0.08626445416797977,
          null
         ]
        },
        {
         "hoverinfo": "text",
         "line": {
          "color": "cornflowerblue",
          "width": 0.44331637922023864
         },
         "mode": "lines",
         "text": [
          "Clown--POLIXENES: 1.25"
         ],
         "type": "scatter",
         "x": [
          -0.4520283925048223,
          0.34969217610037684,
          null
         ],
         "y": [
          -0.09549786119821281,
          0.09377654604319183,
          null
         ]
        },
        {
         "hoverinfo": "text",
         "line": {
          "color": "cornflowerblue",
          "width": 0.38312674978270883
         },
         "mode": "lines",
         "text": [
          "Clown--Servant: 1.15"
         ],
         "type": "scatter",
         "x": [
          -0.4520283925048223,
          0.18148240362694995,
          null
         ],
         "y": [
          -0.09549786119821281,
          1,
          null
         ]
        },
        {
         "hoverinfo": "text",
         "line": {
          "color": "cornflowerblue",
          "width": 1.8182257732321594
         },
         "mode": "lines",
         "text": [
          "Clown--Shepherd: 2.8"
         ],
         "type": "scatter",
         "x": [
          -0.4520283925048223,
          -0.08649041288833349,
          null
         ],
         "y": [
          -0.09549786119821281,
          0.24275517874137242,
          null
         ]
        },
        {
         "hoverinfo": "text",
         "line": {
          "color": "cornflowerblue",
          "width": 0.24948569334752285
         },
         "mode": "lines",
         "text": [
          "DORCAS--FLORIZEL: 0.9"
         ],
         "type": "scatter",
         "x": [
          -0.6233235273262008,
          0.5744147658947862,
          null
         ],
         "y": [
          0.2958319626602499,
          0.24693788131499958,
          null
         ]
        },
        {
         "hoverinfo": "text",
         "line": {
          "color": "cornflowerblue",
          "width": 0.3
         },
         "mode": "lines",
         "text": [
          "DORCAS--MOPSA: 1.0"
         ],
         "type": "scatter",
         "x": [
          -0.6233235273262008,
          -0.027721520777830827,
          null
         ],
         "y": [
          0.2958319626602499,
          -0.7354321235314945,
          null
         ]
        },
        {
         "hoverinfo": "text",
         "line": {
          "color": "cornflowerblue",
          "width": 2.423933213160149
         },
         "mode": "lines",
         "text": [
          "DORCAS--PERDITA: 3.3"
         ],
         "type": "scatter",
         "x": [
          -0.6233235273262008,
          0.06053983664920965,
          null
         ],
         "y": [
          0.2958319626602499,
          -0.08626445416797977,
          null
         ]
        },
        {
         "hoverinfo": "text",
         "line": {
          "color": "cornflowerblue",
          "width": 0.41275128623228646
         },
         "mode": "lines",
         "text": [
          "DORCAS--POLIXENES: 1.2"
         ],
         "type": "scatter",
         "x": [
          -0.6233235273262008,
          0.34969217610037684,
          null
         ],
         "y": [
          0.2958319626602499,
          0.09377654604319183,
          null
         ]
        },
        {
         "hoverinfo": "text",
         "line": {
          "color": "cornflowerblue",
          "width": 0.5747980136142921
         },
         "mode": "lines",
         "text": [
          "DORCAS--Shepherd: 1.45"
         ],
         "type": "scatter",
         "x": [
          -0.6233235273262008,
          -0.08649041288833349,
          null
         ],
         "y": [
          0.2958319626602499,
          0.24275517874137242,
          null
         ]
        },
        {
         "hoverinfo": "text",
         "line": {
          "color": "cornflowerblue",
          "width": 0.0015860568951608462
         },
         "mode": "lines",
         "text": [
          "FLORIZEL--MOPSA: 0.05"
         ],
         "type": "scatter",
         "x": [
          0.5744147658947862,
          -0.027721520777830827,
          null
         ],
         "y": [
          0.24693788131499958,
          -0.7354321235314945,
          null
         ]
        },
        {
         "hoverinfo": "text",
         "line": {
          "color": "cornflowerblue",
          "width": 5.9259224169599145
         },
         "mode": "lines",
         "text": [
          "FLORIZEL--PERDITA: 5.5"
         ],
         "type": "scatter",
         "x": [
          0.5744147658947862,
          0.06053983664920965,
          null
         ],
         "y": [
          0.24693788131499958,
          -0.08626445416797977,
          null
         ]
        },
        {
         "hoverinfo": "text",
         "line": {
          "color": "cornflowerblue",
          "width": 4.584954936764896
         },
         "mode": "lines",
         "text": [
          "FLORIZEL--POLIXENES: 4.75"
         ],
         "type": "scatter",
         "x": [
          0.5744147658947862,
          0.34969217610037684,
          null
         ],
         "y": [
          0.24693788131499958,
          0.09377654604319183,
          null
         ]
        },
        {
         "hoverinfo": "text",
         "line": {
          "color": "cornflowerblue",
          "width": 0.0015860568951608462
         },
         "mode": "lines",
         "text": [
          "FLORIZEL--Servant: 0.05"
         ],
         "type": "scatter",
         "x": [
          0.5744147658947862,
          0.18148240362694995,
          null
         ],
         "y": [
          0.24693788131499958,
          1,
          null
         ]
        },
        {
         "hoverinfo": "text",
         "line": {
          "color": "cornflowerblue",
          "width": 1.0090756983044573
         },
         "mode": "lines",
         "text": [
          "FLORIZEL--Shepherd: 2.0"
         ],
         "type": "scatter",
         "x": [
          0.5744147658947862,
          -0.08649041288833349,
          null
         ],
         "y": [
          0.24693788131499958,
          0.24275517874137242,
          null
         ]
        },
        {
         "hoverinfo": "text",
         "line": {
          "color": "cornflowerblue",
          "width": 2.423933213160149
         },
         "mode": "lines",
         "text": [
          "MOPSA--PERDITA: 3.3"
         ],
         "type": "scatter",
         "x": [
          -0.027721520777830827,
          0.06053983664920965,
          null
         ],
         "y": [
          -0.7354321235314945,
          -0.08626445416797977,
          null
         ]
        },
        {
         "hoverinfo": "text",
         "line": {
          "color": "cornflowerblue",
          "width": 0.41275128623228646
         },
         "mode": "lines",
         "text": [
          "MOPSA--POLIXENES: 1.2"
         ],
         "type": "scatter",
         "x": [
          -0.027721520777830827,
          0.34969217610037684,
          null
         ],
         "y": [
          -0.7354321235314945,
          0.09377654604319183,
          null
         ]
        },
        {
         "hoverinfo": "text",
         "line": {
          "color": "cornflowerblue",
          "width": 0.5747980136142921
         },
         "mode": "lines",
         "text": [
          "MOPSA--Shepherd: 1.45"
         ],
         "type": "scatter",
         "x": [
          -0.027721520777830827,
          -0.08649041288833349,
          null
         ],
         "y": [
          -0.7354321235314945,
          0.24275517874137242,
          null
         ]
        },
        {
         "hoverinfo": "text",
         "line": {
          "color": "cornflowerblue",
          "width": 4.66974773501311
         },
         "mode": "lines",
         "text": [
          "PERDITA--POLIXENES: 4.8"
         ],
         "type": "scatter",
         "x": [
          0.06053983664920965,
          0.34969217610037684,
          null
         ],
         "y": [
          -0.08626445416797977,
          0.09377654604319183,
          null
         ]
        },
        {
         "hoverinfo": "text",
         "line": {
          "color": "cornflowerblue",
          "width": 0.41275128623228646
         },
         "mode": "lines",
         "text": [
          "PERDITA--Servant: 1.2"
         ],
         "type": "scatter",
         "x": [
          0.06053983664920965,
          0.18148240362694995,
          null
         ],
         "y": [
          -0.08626445416797977,
          1,
          null
         ]
        },
        {
         "hoverinfo": "text",
         "line": {
          "color": "cornflowerblue",
          "width": 1.65120704959167
         },
         "mode": "lines",
         "text": [
          "PERDITA--Shepherd: 2.65"
         ],
         "type": "scatter",
         "x": [
          0.06053983664920965,
          -0.08649041288833349,
          null
         ],
         "y": [
          -0.08626445416797977,
          0.24275517874137242,
          null
         ]
        },
        {
         "hoverinfo": "text",
         "line": {
          "color": "cornflowerblue",
          "width": 0.8391665007720779
         },
         "mode": "lines",
         "text": [
          "POLIXENES--Servant: 1.8"
         ],
         "type": "scatter",
         "x": [
          0.34969217610037684,
          0.18148240362694995,
          null
         ],
         "y": [
          0.09377654604319183,
          1,
          null
         ]
        },
        {
         "hoverinfo": "text",
         "line": {
          "color": "cornflowerblue",
          "width": 1.1922324718068633
         },
         "mode": "lines",
         "text": [
          "POLIXENES--Shepherd: 2.2"
         ],
         "type": "scatter",
         "x": [
          0.34969217610037684,
          -0.08649041288833349,
          null
         ],
         "y": [
          0.09377654604319183,
          0.24275517874137242,
          null
         ]
        },
        {
         "hoverinfo": "text",
         "line": {
          "color": "cornflowerblue",
          "width": 0.18133367599522268
         },
         "mode": "lines",
         "text": [
          "Servant--Shepherd: 0.75"
         ],
         "type": "scatter",
         "x": [
          0.18148240362694995,
          -0.08649041288833349,
          null
         ],
         "y": [
          1,
          0.24275517874137242,
          null
         ]
        },
        {
         "hoverinfo": "none",
         "marker": {
          "color": [
           "cornflowerblue",
           "cornflowerblue",
           "cornflowerblue",
           "cornflowerblue",
           "cornflowerblue",
           "cornflowerblue",
           "cornflowerblue",
           "cornflowerblue",
           "cornflowerblue",
           "cornflowerblue"
          ],
          "size": [
           5670,
           3930,
           2220,
           360,
           5040,
           600,
           3630,
           2850,
           1050,
           2520
          ]
         },
         "mode": "markers+text",
         "text": [
          "<b>AUTOLYCUS</b>",
          "<b>CAMILLO</b>",
          "<b>Clown</b>",
          "<b>DORCAS</b>",
          "<b>FLORIZEL</b>",
          "<b>MOPSA</b>",
          "<b>PERDITA</b>",
          "<b>POLIXENES</b>",
          "<b>Servant</b>",
          "<b>Shepherd</b>"
         ],
         "textfont": {
          "size": 10
         },
         "textposition": "top center",
         "type": "scatter",
         "x": [
          -0.508439948169892,
          0.5318746193957582,
          -0.4520283925048223,
          -0.6233235273262008,
          0.5744147658947862,
          -0.027721520777830827,
          0.06053983664920965,
          0.34969217610037684,
          0.18148240362694995,
          -0.08649041288833349
         ],
         "y": [
          -0.6654851612295354,
          -0.2966219686325922,
          -0.09549786119821281,
          0.2958319626602499,
          0.24693788131499958,
          -0.7354321235314945,
          -0.08626445416797977,
          0.09377654604319183,
          1,
          0.24275517874137242
         ]
        }
       ],
       "layout": {
        "paper_bgcolor": "rgba(0,0,0,0)",
        "plot_bgcolor": "rgba(0,0,0,0)",
        "showlegend": false,
        "template": {
         "data": {
          "bar": [
           {
            "error_x": {
             "color": "#2a3f5f"
            },
            "error_y": {
             "color": "#2a3f5f"
            },
            "marker": {
             "line": {
              "color": "#E5ECF6",
              "width": 0.5
             }
            },
            "type": "bar"
           }
          ],
          "barpolar": [
           {
            "marker": {
             "line": {
              "color": "#E5ECF6",
              "width": 0.5
             }
            },
            "type": "barpolar"
           }
          ],
          "carpet": [
           {
            "aaxis": {
             "endlinecolor": "#2a3f5f",
             "gridcolor": "white",
             "linecolor": "white",
             "minorgridcolor": "white",
             "startlinecolor": "#2a3f5f"
            },
            "baxis": {
             "endlinecolor": "#2a3f5f",
             "gridcolor": "white",
             "linecolor": "white",
             "minorgridcolor": "white",
             "startlinecolor": "#2a3f5f"
            },
            "type": "carpet"
           }
          ],
          "choropleth": [
           {
            "colorbar": {
             "outlinewidth": 0,
             "ticks": ""
            },
            "type": "choropleth"
           }
          ],
          "contour": [
           {
            "colorbar": {
             "outlinewidth": 0,
             "ticks": ""
            },
            "colorscale": [
             [
              0,
              "#0d0887"
             ],
             [
              0.1111111111111111,
              "#46039f"
             ],
             [
              0.2222222222222222,
              "#7201a8"
             ],
             [
              0.3333333333333333,
              "#9c179e"
             ],
             [
              0.4444444444444444,
              "#bd3786"
             ],
             [
              0.5555555555555556,
              "#d8576b"
             ],
             [
              0.6666666666666666,
              "#ed7953"
             ],
             [
              0.7777777777777778,
              "#fb9f3a"
             ],
             [
              0.8888888888888888,
              "#fdca26"
             ],
             [
              1,
              "#f0f921"
             ]
            ],
            "type": "contour"
           }
          ],
          "contourcarpet": [
           {
            "colorbar": {
             "outlinewidth": 0,
             "ticks": ""
            },
            "type": "contourcarpet"
           }
          ],
          "heatmap": [
           {
            "colorbar": {
             "outlinewidth": 0,
             "ticks": ""
            },
            "colorscale": [
             [
              0,
              "#0d0887"
             ],
             [
              0.1111111111111111,
              "#46039f"
             ],
             [
              0.2222222222222222,
              "#7201a8"
             ],
             [
              0.3333333333333333,
              "#9c179e"
             ],
             [
              0.4444444444444444,
              "#bd3786"
             ],
             [
              0.5555555555555556,
              "#d8576b"
             ],
             [
              0.6666666666666666,
              "#ed7953"
             ],
             [
              0.7777777777777778,
              "#fb9f3a"
             ],
             [
              0.8888888888888888,
              "#fdca26"
             ],
             [
              1,
              "#f0f921"
             ]
            ],
            "type": "heatmap"
           }
          ],
          "heatmapgl": [
           {
            "colorbar": {
             "outlinewidth": 0,
             "ticks": ""
            },
            "colorscale": [
             [
              0,
              "#0d0887"
             ],
             [
              0.1111111111111111,
              "#46039f"
             ],
             [
              0.2222222222222222,
              "#7201a8"
             ],
             [
              0.3333333333333333,
              "#9c179e"
             ],
             [
              0.4444444444444444,
              "#bd3786"
             ],
             [
              0.5555555555555556,
              "#d8576b"
             ],
             [
              0.6666666666666666,
              "#ed7953"
             ],
             [
              0.7777777777777778,
              "#fb9f3a"
             ],
             [
              0.8888888888888888,
              "#fdca26"
             ],
             [
              1,
              "#f0f921"
             ]
            ],
            "type": "heatmapgl"
           }
          ],
          "histogram": [
           {
            "marker": {
             "colorbar": {
              "outlinewidth": 0,
              "ticks": ""
             }
            },
            "type": "histogram"
           }
          ],
          "histogram2d": [
           {
            "colorbar": {
             "outlinewidth": 0,
             "ticks": ""
            },
            "colorscale": [
             [
              0,
              "#0d0887"
             ],
             [
              0.1111111111111111,
              "#46039f"
             ],
             [
              0.2222222222222222,
              "#7201a8"
             ],
             [
              0.3333333333333333,
              "#9c179e"
             ],
             [
              0.4444444444444444,
              "#bd3786"
             ],
             [
              0.5555555555555556,
              "#d8576b"
             ],
             [
              0.6666666666666666,
              "#ed7953"
             ],
             [
              0.7777777777777778,
              "#fb9f3a"
             ],
             [
              0.8888888888888888,
              "#fdca26"
             ],
             [
              1,
              "#f0f921"
             ]
            ],
            "type": "histogram2d"
           }
          ],
          "histogram2dcontour": [
           {
            "colorbar": {
             "outlinewidth": 0,
             "ticks": ""
            },
            "colorscale": [
             [
              0,
              "#0d0887"
             ],
             [
              0.1111111111111111,
              "#46039f"
             ],
             [
              0.2222222222222222,
              "#7201a8"
             ],
             [
              0.3333333333333333,
              "#9c179e"
             ],
             [
              0.4444444444444444,
              "#bd3786"
             ],
             [
              0.5555555555555556,
              "#d8576b"
             ],
             [
              0.6666666666666666,
              "#ed7953"
             ],
             [
              0.7777777777777778,
              "#fb9f3a"
             ],
             [
              0.8888888888888888,
              "#fdca26"
             ],
             [
              1,
              "#f0f921"
             ]
            ],
            "type": "histogram2dcontour"
           }
          ],
          "mesh3d": [
           {
            "colorbar": {
             "outlinewidth": 0,
             "ticks": ""
            },
            "type": "mesh3d"
           }
          ],
          "parcoords": [
           {
            "line": {
             "colorbar": {
              "outlinewidth": 0,
              "ticks": ""
             }
            },
            "type": "parcoords"
           }
          ],
          "pie": [
           {
            "automargin": true,
            "type": "pie"
           }
          ],
          "scatter": [
           {
            "marker": {
             "colorbar": {
              "outlinewidth": 0,
              "ticks": ""
             }
            },
            "type": "scatter"
           }
          ],
          "scatter3d": [
           {
            "line": {
             "colorbar": {
              "outlinewidth": 0,
              "ticks": ""
             }
            },
            "marker": {
             "colorbar": {
              "outlinewidth": 0,
              "ticks": ""
             }
            },
            "type": "scatter3d"
           }
          ],
          "scattercarpet": [
           {
            "marker": {
             "colorbar": {
              "outlinewidth": 0,
              "ticks": ""
             }
            },
            "type": "scattercarpet"
           }
          ],
          "scattergeo": [
           {
            "marker": {
             "colorbar": {
              "outlinewidth": 0,
              "ticks": ""
             }
            },
            "type": "scattergeo"
           }
          ],
          "scattergl": [
           {
            "marker": {
             "colorbar": {
              "outlinewidth": 0,
              "ticks": ""
             }
            },
            "type": "scattergl"
           }
          ],
          "scattermapbox": [
           {
            "marker": {
             "colorbar": {
              "outlinewidth": 0,
              "ticks": ""
             }
            },
            "type": "scattermapbox"
           }
          ],
          "scatterpolar": [
           {
            "marker": {
             "colorbar": {
              "outlinewidth": 0,
              "ticks": ""
             }
            },
            "type": "scatterpolar"
           }
          ],
          "scatterpolargl": [
           {
            "marker": {
             "colorbar": {
              "outlinewidth": 0,
              "ticks": ""
             }
            },
            "type": "scatterpolargl"
           }
          ],
          "scatterternary": [
           {
            "marker": {
             "colorbar": {
              "outlinewidth": 0,
              "ticks": ""
             }
            },
            "type": "scatterternary"
           }
          ],
          "surface": [
           {
            "colorbar": {
             "outlinewidth": 0,
             "ticks": ""
            },
            "colorscale": [
             [
              0,
              "#0d0887"
             ],
             [
              0.1111111111111111,
              "#46039f"
             ],
             [
              0.2222222222222222,
              "#7201a8"
             ],
             [
              0.3333333333333333,
              "#9c179e"
             ],
             [
              0.4444444444444444,
              "#bd3786"
             ],
             [
              0.5555555555555556,
              "#d8576b"
             ],
             [
              0.6666666666666666,
              "#ed7953"
             ],
             [
              0.7777777777777778,
              "#fb9f3a"
             ],
             [
              0.8888888888888888,
              "#fdca26"
             ],
             [
              1,
              "#f0f921"
             ]
            ],
            "type": "surface"
           }
          ],
          "table": [
           {
            "cells": {
             "fill": {
              "color": "#EBF0F8"
             },
             "line": {
              "color": "white"
             }
            },
            "header": {
             "fill": {
              "color": "#C8D4E3"
             },
             "line": {
              "color": "white"
             }
            },
            "type": "table"
           }
          ]
         },
         "layout": {
          "annotationdefaults": {
           "arrowcolor": "#2a3f5f",
           "arrowhead": 0,
           "arrowwidth": 1
          },
          "autotypenumbers": "strict",
          "coloraxis": {
           "colorbar": {
            "outlinewidth": 0,
            "ticks": ""
           }
          },
          "colorscale": {
           "diverging": [
            [
             0,
             "#8e0152"
            ],
            [
             0.1,
             "#c51b7d"
            ],
            [
             0.2,
             "#de77ae"
            ],
            [
             0.3,
             "#f1b6da"
            ],
            [
             0.4,
             "#fde0ef"
            ],
            [
             0.5,
             "#f7f7f7"
            ],
            [
             0.6,
             "#e6f5d0"
            ],
            [
             0.7,
             "#b8e186"
            ],
            [
             0.8,
             "#7fbc41"
            ],
            [
             0.9,
             "#4d9221"
            ],
            [
             1,
             "#276419"
            ]
           ],
           "sequential": [
            [
             0,
             "#0d0887"
            ],
            [
             0.1111111111111111,
             "#46039f"
            ],
            [
             0.2222222222222222,
             "#7201a8"
            ],
            [
             0.3333333333333333,
             "#9c179e"
            ],
            [
             0.4444444444444444,
             "#bd3786"
            ],
            [
             0.5555555555555556,
             "#d8576b"
            ],
            [
             0.6666666666666666,
             "#ed7953"
            ],
            [
             0.7777777777777778,
             "#fb9f3a"
            ],
            [
             0.8888888888888888,
             "#fdca26"
            ],
            [
             1,
             "#f0f921"
            ]
           ],
           "sequentialminus": [
            [
             0,
             "#0d0887"
            ],
            [
             0.1111111111111111,
             "#46039f"
            ],
            [
             0.2222222222222222,
             "#7201a8"
            ],
            [
             0.3333333333333333,
             "#9c179e"
            ],
            [
             0.4444444444444444,
             "#bd3786"
            ],
            [
             0.5555555555555556,
             "#d8576b"
            ],
            [
             0.6666666666666666,
             "#ed7953"
            ],
            [
             0.7777777777777778,
             "#fb9f3a"
            ],
            [
             0.8888888888888888,
             "#fdca26"
            ],
            [
             1,
             "#f0f921"
            ]
           ]
          },
          "colorway": [
           "#636efa",
           "#EF553B",
           "#00cc96",
           "#ab63fa",
           "#FFA15A",
           "#19d3f3",
           "#FF6692",
           "#B6E880",
           "#FF97FF",
           "#FECB52"
          ],
          "font": {
           "color": "#2a3f5f"
          },
          "geo": {
           "bgcolor": "white",
           "lakecolor": "white",
           "landcolor": "#E5ECF6",
           "showlakes": true,
           "showland": true,
           "subunitcolor": "white"
          },
          "hoverlabel": {
           "align": "left"
          },
          "hovermode": "closest",
          "mapbox": {
           "style": "light"
          },
          "paper_bgcolor": "white",
          "plot_bgcolor": "#E5ECF6",
          "polar": {
           "angularaxis": {
            "gridcolor": "white",
            "linecolor": "white",
            "ticks": ""
           },
           "bgcolor": "#E5ECF6",
           "radialaxis": {
            "gridcolor": "white",
            "linecolor": "white",
            "ticks": ""
           }
          },
          "scene": {
           "xaxis": {
            "backgroundcolor": "#E5ECF6",
            "gridcolor": "white",
            "gridwidth": 2,
            "linecolor": "white",
            "showbackground": true,
            "ticks": "",
            "zerolinecolor": "white"
           },
           "yaxis": {
            "backgroundcolor": "#E5ECF6",
            "gridcolor": "white",
            "gridwidth": 2,
            "linecolor": "white",
            "showbackground": true,
            "ticks": "",
            "zerolinecolor": "white"
           },
           "zaxis": {
            "backgroundcolor": "#E5ECF6",
            "gridcolor": "white",
            "gridwidth": 2,
            "linecolor": "white",
            "showbackground": true,
            "ticks": "",
            "zerolinecolor": "white"
           }
          },
          "shapedefaults": {
           "line": {
            "color": "#2a3f5f"
           }
          },
          "ternary": {
           "aaxis": {
            "gridcolor": "white",
            "linecolor": "white",
            "ticks": ""
           },
           "baxis": {
            "gridcolor": "white",
            "linecolor": "white",
            "ticks": ""
           },
           "bgcolor": "#E5ECF6",
           "caxis": {
            "gridcolor": "white",
            "linecolor": "white",
            "ticks": ""
           }
          },
          "title": {
           "x": 0.05
          },
          "xaxis": {
           "automargin": true,
           "gridcolor": "white",
           "linecolor": "white",
           "ticks": "",
           "title": {
            "standoff": 15
           },
           "zerolinecolor": "white",
           "zerolinewidth": 2
          },
          "yaxis": {
           "automargin": true,
           "gridcolor": "white",
           "linecolor": "white",
           "ticks": "",
           "title": {
            "standoff": 15
           },
           "zerolinecolor": "white",
           "zerolinewidth": 2
          }
         }
        },
        "xaxis": {
         "showticklabels": false
        },
        "yaxis": {
         "showticklabels": false
        }
       }
      },
      "text/html": [
       "<div>                            <div id=\"3e5b6ba4-952f-4efe-9913-f7122056c766\" class=\"plotly-graph-div\" style=\"height:525px; width:100%;\"></div>            <script type=\"text/javascript\">                require([\"plotly\"], function(Plotly) {                    window.PLOTLYENV=window.PLOTLYENV || {};                                    if (document.getElementById(\"3e5b6ba4-952f-4efe-9913-f7122056c766\")) {                    Plotly.newPlot(                        \"3e5b6ba4-952f-4efe-9913-f7122056c766\",                        [{\"hoverinfo\": \"text\", \"line\": {\"color\": \"cornflowerblue\", \"width\": 1.0090756983044573}, \"mode\": \"lines\", \"text\": [\"AUTOLYCUS--CAMILLO: 2.0\"], \"type\": \"scatter\", \"x\": [-0.508439948169892, 0.5318746193957582, null], \"y\": [-0.6654851612295354, -0.2966219686325922, null]}, {\"hoverinfo\": \"text\", \"line\": {\"color\": \"cornflowerblue\", \"width\": 2.172722285551274}, \"mode\": \"lines\", \"text\": [\"AUTOLYCUS--Clown: 3.1\"], \"type\": \"scatter\", \"x\": [-0.508439948169892, -0.4520283925048223, null], \"y\": [-0.6654851612295354, -0.09549786119821281, null]}, {\"hoverinfo\": \"text\", \"line\": {\"color\": \"cornflowerblue\", \"width\": 0.08919053362520407}, \"mode\": \"lines\", \"text\": [\"AUTOLYCUS--DORCAS: 0.5\"], \"type\": \"scatter\", \"x\": [-0.508439948169892, -0.6233235273262008, null], \"y\": [-0.6654851612295354, 0.2958319626602499, null]}, {\"hoverinfo\": \"text\", \"line\": {\"color\": \"cornflowerblue\", \"width\": 0.06035680462478091}, \"mode\": \"lines\", \"text\": [\"AUTOLYCUS--FLORIZEL: 0.4\"], \"type\": \"scatter\", \"x\": [-0.508439948169892, 0.5744147658947862, null], \"y\": [-0.6654851612295354, 0.24693788131499958, null]}, {\"hoverinfo\": \"text\", \"line\": {\"color\": \"cornflowerblue\", \"width\": 0.27424427106582416}, \"mode\": \"lines\", \"text\": [\"AUTOLYCUS--MOPSA: 0.95\"], \"type\": \"scatter\", \"x\": [-0.508439948169892, -0.027721520777830827, null], \"y\": [-0.6654851612295354, -0.7354321235314945, null]}, {\"hoverinfo\": \"text\", \"line\": {\"color\": \"cornflowerblue\", \"width\": 0.01794418537465465}, \"mode\": \"lines\", \"text\": [\"AUTOLYCUS--PERDITA: 0.2\"], \"type\": \"scatter\", \"x\": [-0.508439948169892, 0.06053983664920965, null], \"y\": [-0.6654851612295354, -0.08626445416797977, null]}, {\"hoverinfo\": \"text\", \"line\": {\"color\": \"cornflowerblue\", \"width\": 0.5072304878568292}, \"mode\": \"lines\", \"text\": [\"AUTOLYCUS--Shepherd: 1.35\"], \"type\": \"scatter\", \"x\": [-0.508439948169892, -0.08649041288833349, null], \"y\": [-0.6654851612295354, 0.24275517874137242, null]}, {\"hoverinfo\": \"text\", \"line\": {\"color\": \"cornflowerblue\", \"width\": 0.01794418537465465}, \"mode\": \"lines\", \"text\": [\"CAMILLO--Clown: 0.2\"], \"type\": \"scatter\", \"x\": [0.5318746193957582, -0.4520283925048223, null], \"y\": [-0.2966219686325922, -0.09549786119821281, null]}, {\"hoverinfo\": \"text\", \"line\": {\"color\": \"cornflowerblue\", \"width\": 0.005334838230116768}, \"mode\": \"lines\", \"text\": [\"CAMILLO--DORCAS: 0.1\"], \"type\": \"scatter\", \"x\": [0.5318746193957582, -0.6233235273262008, null], \"y\": [-0.2966219686325922, 0.2958319626602499, null]}, {\"hoverinfo\": \"text\", \"line\": {\"color\": \"cornflowerblue\", \"width\": 8.370514623234188}, \"mode\": \"lines\", \"text\": [\"CAMILLO--FLORIZEL: 6.7\"], \"type\": \"scatter\", \"x\": [0.5318746193957582, 0.5744147658947862, null], \"y\": [-0.2966219686325922, 0.24693788131499958, null]}, {\"hoverinfo\": \"text\", \"line\": {\"color\": \"cornflowerblue\", \"width\": 0.0015860568951608462}, \"mode\": \"lines\", \"text\": [\"CAMILLO--MOPSA: 0.05\"], \"type\": \"scatter\", \"x\": [0.5318746193957582, -0.027721520777830827, null], \"y\": [-0.2966219686325922, -0.7354321235314945, null]}, {\"hoverinfo\": \"text\", \"line\": {\"color\": \"cornflowerblue\", \"width\": 4.334584365205041}, \"mode\": \"lines\", \"text\": [\"CAMILLO--PERDITA: 4.6\"], \"type\": \"scatter\", \"x\": [0.5318746193957582, 0.06053983664920965, null], \"y\": [-0.2966219686325922, -0.08626445416797977, null]}, {\"hoverinfo\": \"text\", \"line\": {\"color\": \"cornflowerblue\", \"width\": 4.584954936764896}, \"mode\": \"lines\", \"text\": [\"CAMILLO--POLIXENES: 4.75\"], \"type\": \"scatter\", \"x\": [0.5318746193957582, 0.34969217610037684, null], \"y\": [-0.2966219686325922, 0.09377654604319183, null]}, {\"hoverinfo\": \"text\", \"line\": {\"color\": \"cornflowerblue\", \"width\": 0.0015860568951608462}, \"mode\": \"lines\", \"text\": [\"CAMILLO--Servant: 0.05\"], \"type\": \"scatter\", \"x\": [0.5318746193957582, 0.18148240362694995, null], \"y\": [-0.2966219686325922, 1.0, null]}, {\"hoverinfo\": \"text\", \"line\": {\"color\": \"cornflowerblue\", \"width\": 1.65120704959167}, \"mode\": \"lines\", \"text\": [\"CAMILLO--Shepherd: 2.65\"], \"type\": \"scatter\", \"x\": [0.5318746193957582, -0.08649041288833349, null], \"y\": [-0.2966219686325922, 0.24275517874137242, null]}, {\"hoverinfo\": \"text\", \"line\": {\"color\": \"cornflowerblue\", \"width\": 0.12271169157848992}, \"mode\": \"lines\", \"text\": [\"Clown--DORCAS: 0.6\"], \"type\": \"scatter\", \"x\": [-0.4520283925048223, -0.6233235273262008, null], \"y\": [-0.09549786119821281, 0.2958319626602499, null]}, {\"hoverinfo\": \"text\", \"line\": {\"color\": \"cornflowerblue\", \"width\": 0.24948569334752285}, \"mode\": \"lines\", \"text\": [\"Clown--FLORIZEL: 0.9\"], \"type\": \"scatter\", \"x\": [-0.4520283925048223, 0.5744147658947862, null], \"y\": [-0.09549786119821281, 0.24693788131499958, null]}, {\"hoverinfo\": \"text\", \"line\": {\"color\": \"cornflowerblue\", \"width\": 0.3}, \"mode\": \"lines\", \"text\": [\"Clown--MOPSA: 1.0\"], \"type\": \"scatter\", \"x\": [-0.4520283925048223, -0.027721520777830827, null], \"y\": [-0.09549786119821281, -0.7354321235314945, null]}, {\"hoverinfo\": \"text\", \"line\": {\"color\": \"cornflowerblue\", \"width\": 2.5539321753503774}, \"mode\": \"lines\", \"text\": [\"Clown--PERDITA: 3.4\"], \"type\": \"scatter\", \"x\": [-0.4520283925048223, 0.06053983664920965, null], \"y\": [-0.09549786119821281, -0.08626445416797977, null]}, {\"hoverinfo\": \"text\", \"line\": {\"color\": \"cornflowerblue\", \"width\": 0.44331637922023864}, \"mode\": \"lines\", \"text\": [\"Clown--POLIXENES: 1.25\"], \"type\": \"scatter\", \"x\": [-0.4520283925048223, 0.34969217610037684, null], \"y\": [-0.09549786119821281, 0.09377654604319183, null]}, {\"hoverinfo\": \"text\", \"line\": {\"color\": \"cornflowerblue\", \"width\": 0.38312674978270883}, \"mode\": \"lines\", \"text\": [\"Clown--Servant: 1.15\"], \"type\": \"scatter\", \"x\": [-0.4520283925048223, 0.18148240362694995, null], \"y\": [-0.09549786119821281, 1.0, null]}, {\"hoverinfo\": \"text\", \"line\": {\"color\": \"cornflowerblue\", \"width\": 1.8182257732321594}, \"mode\": \"lines\", \"text\": [\"Clown--Shepherd: 2.8\"], \"type\": \"scatter\", \"x\": [-0.4520283925048223, -0.08649041288833349, null], \"y\": [-0.09549786119821281, 0.24275517874137242, null]}, {\"hoverinfo\": \"text\", \"line\": {\"color\": \"cornflowerblue\", \"width\": 0.24948569334752285}, \"mode\": \"lines\", \"text\": [\"DORCAS--FLORIZEL: 0.9\"], \"type\": \"scatter\", \"x\": [-0.6233235273262008, 0.5744147658947862, null], \"y\": [0.2958319626602499, 0.24693788131499958, null]}, {\"hoverinfo\": \"text\", \"line\": {\"color\": \"cornflowerblue\", \"width\": 0.3}, \"mode\": \"lines\", \"text\": [\"DORCAS--MOPSA: 1.0\"], \"type\": \"scatter\", \"x\": [-0.6233235273262008, -0.027721520777830827, null], \"y\": [0.2958319626602499, -0.7354321235314945, null]}, {\"hoverinfo\": \"text\", \"line\": {\"color\": \"cornflowerblue\", \"width\": 2.423933213160149}, \"mode\": \"lines\", \"text\": [\"DORCAS--PERDITA: 3.3\"], \"type\": \"scatter\", \"x\": [-0.6233235273262008, 0.06053983664920965, null], \"y\": [0.2958319626602499, -0.08626445416797977, null]}, {\"hoverinfo\": \"text\", \"line\": {\"color\": \"cornflowerblue\", \"width\": 0.41275128623228646}, \"mode\": \"lines\", \"text\": [\"DORCAS--POLIXENES: 1.2\"], \"type\": \"scatter\", \"x\": [-0.6233235273262008, 0.34969217610037684, null], \"y\": [0.2958319626602499, 0.09377654604319183, null]}, {\"hoverinfo\": \"text\", \"line\": {\"color\": \"cornflowerblue\", \"width\": 0.5747980136142921}, \"mode\": \"lines\", \"text\": [\"DORCAS--Shepherd: 1.45\"], \"type\": \"scatter\", \"x\": [-0.6233235273262008, -0.08649041288833349, null], \"y\": [0.2958319626602499, 0.24275517874137242, null]}, {\"hoverinfo\": \"text\", \"line\": {\"color\": \"cornflowerblue\", \"width\": 0.0015860568951608462}, \"mode\": \"lines\", \"text\": [\"FLORIZEL--MOPSA: 0.05\"], \"type\": \"scatter\", \"x\": [0.5744147658947862, -0.027721520777830827, null], \"y\": [0.24693788131499958, -0.7354321235314945, null]}, {\"hoverinfo\": \"text\", \"line\": {\"color\": \"cornflowerblue\", \"width\": 5.9259224169599145}, \"mode\": \"lines\", \"text\": [\"FLORIZEL--PERDITA: 5.5\"], \"type\": \"scatter\", \"x\": [0.5744147658947862, 0.06053983664920965, null], \"y\": [0.24693788131499958, -0.08626445416797977, null]}, {\"hoverinfo\": \"text\", \"line\": {\"color\": \"cornflowerblue\", \"width\": 4.584954936764896}, \"mode\": \"lines\", \"text\": [\"FLORIZEL--POLIXENES: 4.75\"], \"type\": \"scatter\", \"x\": [0.5744147658947862, 0.34969217610037684, null], \"y\": [0.24693788131499958, 0.09377654604319183, null]}, {\"hoverinfo\": \"text\", \"line\": {\"color\": \"cornflowerblue\", \"width\": 0.0015860568951608462}, \"mode\": \"lines\", \"text\": [\"FLORIZEL--Servant: 0.05\"], \"type\": \"scatter\", \"x\": [0.5744147658947862, 0.18148240362694995, null], \"y\": [0.24693788131499958, 1.0, null]}, {\"hoverinfo\": \"text\", \"line\": {\"color\": \"cornflowerblue\", \"width\": 1.0090756983044573}, \"mode\": \"lines\", \"text\": [\"FLORIZEL--Shepherd: 2.0\"], \"type\": \"scatter\", \"x\": [0.5744147658947862, -0.08649041288833349, null], \"y\": [0.24693788131499958, 0.24275517874137242, null]}, {\"hoverinfo\": \"text\", \"line\": {\"color\": \"cornflowerblue\", \"width\": 2.423933213160149}, \"mode\": \"lines\", \"text\": [\"MOPSA--PERDITA: 3.3\"], \"type\": \"scatter\", \"x\": [-0.027721520777830827, 0.06053983664920965, null], \"y\": [-0.7354321235314945, -0.08626445416797977, null]}, {\"hoverinfo\": \"text\", \"line\": {\"color\": \"cornflowerblue\", \"width\": 0.41275128623228646}, \"mode\": \"lines\", \"text\": [\"MOPSA--POLIXENES: 1.2\"], \"type\": \"scatter\", \"x\": [-0.027721520777830827, 0.34969217610037684, null], \"y\": [-0.7354321235314945, 0.09377654604319183, null]}, {\"hoverinfo\": \"text\", \"line\": {\"color\": \"cornflowerblue\", \"width\": 0.5747980136142921}, \"mode\": \"lines\", \"text\": [\"MOPSA--Shepherd: 1.45\"], \"type\": \"scatter\", \"x\": [-0.027721520777830827, -0.08649041288833349, null], \"y\": [-0.7354321235314945, 0.24275517874137242, null]}, {\"hoverinfo\": \"text\", \"line\": {\"color\": \"cornflowerblue\", \"width\": 4.66974773501311}, \"mode\": \"lines\", \"text\": [\"PERDITA--POLIXENES: 4.8\"], \"type\": \"scatter\", \"x\": [0.06053983664920965, 0.34969217610037684, null], \"y\": [-0.08626445416797977, 0.09377654604319183, null]}, {\"hoverinfo\": \"text\", \"line\": {\"color\": \"cornflowerblue\", \"width\": 0.41275128623228646}, \"mode\": \"lines\", \"text\": [\"PERDITA--Servant: 1.2\"], \"type\": \"scatter\", \"x\": [0.06053983664920965, 0.18148240362694995, null], \"y\": [-0.08626445416797977, 1.0, null]}, {\"hoverinfo\": \"text\", \"line\": {\"color\": \"cornflowerblue\", \"width\": 1.65120704959167}, \"mode\": \"lines\", \"text\": [\"PERDITA--Shepherd: 2.65\"], \"type\": \"scatter\", \"x\": [0.06053983664920965, -0.08649041288833349, null], \"y\": [-0.08626445416797977, 0.24275517874137242, null]}, {\"hoverinfo\": \"text\", \"line\": {\"color\": \"cornflowerblue\", \"width\": 0.8391665007720779}, \"mode\": \"lines\", \"text\": [\"POLIXENES--Servant: 1.8\"], \"type\": \"scatter\", \"x\": [0.34969217610037684, 0.18148240362694995, null], \"y\": [0.09377654604319183, 1.0, null]}, {\"hoverinfo\": \"text\", \"line\": {\"color\": \"cornflowerblue\", \"width\": 1.1922324718068633}, \"mode\": \"lines\", \"text\": [\"POLIXENES--Shepherd: 2.2\"], \"type\": \"scatter\", \"x\": [0.34969217610037684, -0.08649041288833349, null], \"y\": [0.09377654604319183, 0.24275517874137242, null]}, {\"hoverinfo\": \"text\", \"line\": {\"color\": \"cornflowerblue\", \"width\": 0.18133367599522268}, \"mode\": \"lines\", \"text\": [\"Servant--Shepherd: 0.75\"], \"type\": \"scatter\", \"x\": [0.18148240362694995, -0.08649041288833349, null], \"y\": [1.0, 0.24275517874137242, null]}, {\"hoverinfo\": \"none\", \"marker\": {\"color\": [\"cornflowerblue\", \"cornflowerblue\", \"cornflowerblue\", \"cornflowerblue\", \"cornflowerblue\", \"cornflowerblue\", \"cornflowerblue\", \"cornflowerblue\", \"cornflowerblue\", \"cornflowerblue\"], \"size\": [5670, 3930, 2220, 360, 5040, 600, 3630, 2850, 1050, 2520]}, \"mode\": \"markers+text\", \"text\": [\"<b>AUTOLYCUS</b>\", \"<b>CAMILLO</b>\", \"<b>Clown</b>\", \"<b>DORCAS</b>\", \"<b>FLORIZEL</b>\", \"<b>MOPSA</b>\", \"<b>PERDITA</b>\", \"<b>POLIXENES</b>\", \"<b>Servant</b>\", \"<b>Shepherd</b>\"], \"textfont\": {\"size\": 10}, \"textposition\": \"top center\", \"type\": \"scatter\", \"x\": [-0.508439948169892, 0.5318746193957582, -0.4520283925048223, -0.6233235273262008, 0.5744147658947862, -0.027721520777830827, 0.06053983664920965, 0.34969217610037684, 0.18148240362694995, -0.08649041288833349], \"y\": [-0.6654851612295354, -0.2966219686325922, -0.09549786119821281, 0.2958319626602499, 0.24693788131499958, -0.7354321235314945, -0.08626445416797977, 0.09377654604319183, 1.0, 0.24275517874137242]}],                        {\"paper_bgcolor\": \"rgba(0,0,0,0)\", \"plot_bgcolor\": \"rgba(0,0,0,0)\", \"showlegend\": false, \"template\": {\"data\": {\"bar\": [{\"error_x\": {\"color\": \"#2a3f5f\"}, \"error_y\": {\"color\": \"#2a3f5f\"}, \"marker\": {\"line\": {\"color\": \"#E5ECF6\", \"width\": 0.5}}, \"type\": \"bar\"}], \"barpolar\": [{\"marker\": {\"line\": {\"color\": \"#E5ECF6\", \"width\": 0.5}}, \"type\": \"barpolar\"}], \"carpet\": [{\"aaxis\": {\"endlinecolor\": \"#2a3f5f\", \"gridcolor\": \"white\", \"linecolor\": \"white\", \"minorgridcolor\": \"white\", \"startlinecolor\": \"#2a3f5f\"}, \"baxis\": {\"endlinecolor\": \"#2a3f5f\", \"gridcolor\": \"white\", \"linecolor\": \"white\", \"minorgridcolor\": \"white\", \"startlinecolor\": \"#2a3f5f\"}, \"type\": \"carpet\"}], \"choropleth\": [{\"colorbar\": {\"outlinewidth\": 0, \"ticks\": \"\"}, \"type\": \"choropleth\"}], \"contour\": [{\"colorbar\": {\"outlinewidth\": 0, \"ticks\": \"\"}, \"colorscale\": [[0.0, \"#0d0887\"], [0.1111111111111111, \"#46039f\"], [0.2222222222222222, \"#7201a8\"], [0.3333333333333333, \"#9c179e\"], [0.4444444444444444, \"#bd3786\"], [0.5555555555555556, \"#d8576b\"], [0.6666666666666666, \"#ed7953\"], [0.7777777777777778, \"#fb9f3a\"], [0.8888888888888888, \"#fdca26\"], [1.0, \"#f0f921\"]], \"type\": \"contour\"}], \"contourcarpet\": [{\"colorbar\": {\"outlinewidth\": 0, \"ticks\": \"\"}, \"type\": \"contourcarpet\"}], \"heatmap\": [{\"colorbar\": {\"outlinewidth\": 0, \"ticks\": \"\"}, \"colorscale\": [[0.0, \"#0d0887\"], [0.1111111111111111, \"#46039f\"], [0.2222222222222222, \"#7201a8\"], [0.3333333333333333, \"#9c179e\"], [0.4444444444444444, \"#bd3786\"], [0.5555555555555556, \"#d8576b\"], [0.6666666666666666, \"#ed7953\"], [0.7777777777777778, \"#fb9f3a\"], [0.8888888888888888, \"#fdca26\"], [1.0, \"#f0f921\"]], \"type\": \"heatmap\"}], \"heatmapgl\": [{\"colorbar\": {\"outlinewidth\": 0, \"ticks\": \"\"}, \"colorscale\": [[0.0, \"#0d0887\"], [0.1111111111111111, \"#46039f\"], [0.2222222222222222, \"#7201a8\"], [0.3333333333333333, \"#9c179e\"], [0.4444444444444444, \"#bd3786\"], [0.5555555555555556, \"#d8576b\"], [0.6666666666666666, \"#ed7953\"], [0.7777777777777778, \"#fb9f3a\"], [0.8888888888888888, \"#fdca26\"], [1.0, \"#f0f921\"]], \"type\": \"heatmapgl\"}], \"histogram\": [{\"marker\": {\"colorbar\": {\"outlinewidth\": 0, \"ticks\": \"\"}}, \"type\": \"histogram\"}], \"histogram2d\": [{\"colorbar\": {\"outlinewidth\": 0, \"ticks\": \"\"}, \"colorscale\": [[0.0, \"#0d0887\"], [0.1111111111111111, \"#46039f\"], [0.2222222222222222, \"#7201a8\"], [0.3333333333333333, \"#9c179e\"], [0.4444444444444444, \"#bd3786\"], [0.5555555555555556, \"#d8576b\"], [0.6666666666666666, \"#ed7953\"], [0.7777777777777778, \"#fb9f3a\"], [0.8888888888888888, \"#fdca26\"], [1.0, \"#f0f921\"]], \"type\": \"histogram2d\"}], \"histogram2dcontour\": [{\"colorbar\": {\"outlinewidth\": 0, \"ticks\": \"\"}, \"colorscale\": [[0.0, \"#0d0887\"], [0.1111111111111111, \"#46039f\"], [0.2222222222222222, \"#7201a8\"], [0.3333333333333333, \"#9c179e\"], [0.4444444444444444, \"#bd3786\"], [0.5555555555555556, \"#d8576b\"], [0.6666666666666666, \"#ed7953\"], [0.7777777777777778, \"#fb9f3a\"], [0.8888888888888888, \"#fdca26\"], [1.0, \"#f0f921\"]], \"type\": \"histogram2dcontour\"}], \"mesh3d\": [{\"colorbar\": {\"outlinewidth\": 0, \"ticks\": \"\"}, \"type\": \"mesh3d\"}], \"parcoords\": [{\"line\": {\"colorbar\": {\"outlinewidth\": 0, \"ticks\": \"\"}}, \"type\": \"parcoords\"}], \"pie\": [{\"automargin\": true, \"type\": \"pie\"}], \"scatter\": [{\"marker\": {\"colorbar\": {\"outlinewidth\": 0, \"ticks\": \"\"}}, \"type\": \"scatter\"}], \"scatter3d\": [{\"line\": {\"colorbar\": {\"outlinewidth\": 0, \"ticks\": \"\"}}, \"marker\": {\"colorbar\": {\"outlinewidth\": 0, \"ticks\": \"\"}}, \"type\": \"scatter3d\"}], \"scattercarpet\": [{\"marker\": {\"colorbar\": {\"outlinewidth\": 0, \"ticks\": \"\"}}, \"type\": \"scattercarpet\"}], \"scattergeo\": [{\"marker\": {\"colorbar\": {\"outlinewidth\": 0, \"ticks\": \"\"}}, \"type\": \"scattergeo\"}], \"scattergl\": [{\"marker\": {\"colorbar\": {\"outlinewidth\": 0, \"ticks\": \"\"}}, \"type\": \"scattergl\"}], \"scattermapbox\": [{\"marker\": {\"colorbar\": {\"outlinewidth\": 0, \"ticks\": \"\"}}, \"type\": \"scattermapbox\"}], \"scatterpolar\": [{\"marker\": {\"colorbar\": {\"outlinewidth\": 0, \"ticks\": \"\"}}, \"type\": \"scatterpolar\"}], \"scatterpolargl\": [{\"marker\": {\"colorbar\": {\"outlinewidth\": 0, \"ticks\": \"\"}}, \"type\": \"scatterpolargl\"}], \"scatterternary\": [{\"marker\": {\"colorbar\": {\"outlinewidth\": 0, \"ticks\": \"\"}}, \"type\": \"scatterternary\"}], \"surface\": [{\"colorbar\": {\"outlinewidth\": 0, \"ticks\": \"\"}, \"colorscale\": [[0.0, \"#0d0887\"], [0.1111111111111111, \"#46039f\"], [0.2222222222222222, \"#7201a8\"], [0.3333333333333333, \"#9c179e\"], [0.4444444444444444, \"#bd3786\"], [0.5555555555555556, \"#d8576b\"], [0.6666666666666666, \"#ed7953\"], [0.7777777777777778, \"#fb9f3a\"], [0.8888888888888888, \"#fdca26\"], [1.0, \"#f0f921\"]], \"type\": \"surface\"}], \"table\": [{\"cells\": {\"fill\": {\"color\": \"#EBF0F8\"}, \"line\": {\"color\": \"white\"}}, \"header\": {\"fill\": {\"color\": \"#C8D4E3\"}, \"line\": {\"color\": \"white\"}}, \"type\": \"table\"}]}, \"layout\": {\"annotationdefaults\": {\"arrowcolor\": \"#2a3f5f\", \"arrowhead\": 0, \"arrowwidth\": 1}, \"autotypenumbers\": \"strict\", \"coloraxis\": {\"colorbar\": {\"outlinewidth\": 0, \"ticks\": \"\"}}, \"colorscale\": {\"diverging\": [[0, \"#8e0152\"], [0.1, \"#c51b7d\"], [0.2, \"#de77ae\"], [0.3, \"#f1b6da\"], [0.4, \"#fde0ef\"], [0.5, \"#f7f7f7\"], [0.6, \"#e6f5d0\"], [0.7, \"#b8e186\"], [0.8, \"#7fbc41\"], [0.9, \"#4d9221\"], [1, \"#276419\"]], \"sequential\": [[0.0, \"#0d0887\"], [0.1111111111111111, \"#46039f\"], [0.2222222222222222, \"#7201a8\"], [0.3333333333333333, \"#9c179e\"], [0.4444444444444444, \"#bd3786\"], [0.5555555555555556, \"#d8576b\"], [0.6666666666666666, \"#ed7953\"], [0.7777777777777778, \"#fb9f3a\"], [0.8888888888888888, \"#fdca26\"], [1.0, \"#f0f921\"]], \"sequentialminus\": [[0.0, \"#0d0887\"], [0.1111111111111111, \"#46039f\"], [0.2222222222222222, \"#7201a8\"], [0.3333333333333333, \"#9c179e\"], [0.4444444444444444, \"#bd3786\"], [0.5555555555555556, \"#d8576b\"], [0.6666666666666666, \"#ed7953\"], [0.7777777777777778, \"#fb9f3a\"], [0.8888888888888888, \"#fdca26\"], [1.0, \"#f0f921\"]]}, \"colorway\": [\"#636efa\", \"#EF553B\", \"#00cc96\", \"#ab63fa\", \"#FFA15A\", \"#19d3f3\", \"#FF6692\", \"#B6E880\", \"#FF97FF\", \"#FECB52\"], \"font\": {\"color\": \"#2a3f5f\"}, \"geo\": {\"bgcolor\": \"white\", \"lakecolor\": \"white\", \"landcolor\": \"#E5ECF6\", \"showlakes\": true, \"showland\": true, \"subunitcolor\": \"white\"}, \"hoverlabel\": {\"align\": \"left\"}, \"hovermode\": \"closest\", \"mapbox\": {\"style\": \"light\"}, \"paper_bgcolor\": \"white\", \"plot_bgcolor\": \"#E5ECF6\", \"polar\": {\"angularaxis\": {\"gridcolor\": \"white\", \"linecolor\": \"white\", \"ticks\": \"\"}, \"bgcolor\": \"#E5ECF6\", \"radialaxis\": {\"gridcolor\": \"white\", \"linecolor\": \"white\", \"ticks\": \"\"}}, \"scene\": {\"xaxis\": {\"backgroundcolor\": \"#E5ECF6\", \"gridcolor\": \"white\", \"gridwidth\": 2, \"linecolor\": \"white\", \"showbackground\": true, \"ticks\": \"\", \"zerolinecolor\": \"white\"}, \"yaxis\": {\"backgroundcolor\": \"#E5ECF6\", \"gridcolor\": \"white\", \"gridwidth\": 2, \"linecolor\": \"white\", \"showbackground\": true, \"ticks\": \"\", \"zerolinecolor\": \"white\"}, \"zaxis\": {\"backgroundcolor\": \"#E5ECF6\", \"gridcolor\": \"white\", \"gridwidth\": 2, \"linecolor\": \"white\", \"showbackground\": true, \"ticks\": \"\", \"zerolinecolor\": \"white\"}}, \"shapedefaults\": {\"line\": {\"color\": \"#2a3f5f\"}}, \"ternary\": {\"aaxis\": {\"gridcolor\": \"white\", \"linecolor\": \"white\", \"ticks\": \"\"}, \"baxis\": {\"gridcolor\": \"white\", \"linecolor\": \"white\", \"ticks\": \"\"}, \"bgcolor\": \"#E5ECF6\", \"caxis\": {\"gridcolor\": \"white\", \"linecolor\": \"white\", \"ticks\": \"\"}}, \"title\": {\"x\": 0.05}, \"xaxis\": {\"automargin\": true, \"gridcolor\": \"white\", \"linecolor\": \"white\", \"ticks\": \"\", \"title\": {\"standoff\": 15}, \"zerolinecolor\": \"white\", \"zerolinewidth\": 2}, \"yaxis\": {\"automargin\": true, \"gridcolor\": \"white\", \"linecolor\": \"white\", \"ticks\": \"\", \"title\": {\"standoff\": 15}, \"zerolinecolor\": \"white\", \"zerolinewidth\": 2}}}, \"xaxis\": {\"showticklabels\": false}, \"yaxis\": {\"showticklabels\": false}},                        {\"responsive\": true}                    ).then(function(){\n",
       "                            \n",
       "var gd = document.getElementById('3e5b6ba4-952f-4efe-9913-f7122056c766');\n",
       "var x = new MutationObserver(function (mutations, observer) {{\n",
       "        var display = window.getComputedStyle(gd).display;\n",
       "        if (!display || display === 'none') {{\n",
       "            console.log([gd, 'removed!']);\n",
       "            Plotly.purge(gd);\n",
       "            observer.disconnect();\n",
       "        }}\n",
       "}});\n",
       "\n",
       "// Listen for the removal of the full notebook cells\n",
       "var notebookContainer = gd.closest('#notebook-container');\n",
       "if (notebookContainer) {{\n",
       "    x.observe(notebookContainer, {childList: true});\n",
       "}}\n",
       "\n",
       "// Listen for the clearing of the current output cell\n",
       "var outputEl = gd.closest('.output');\n",
       "if (outputEl) {{\n",
       "    x.observe(outputEl, {childList: true});\n",
       "}}\n",
       "\n",
       "                        })                };                });            </script>        </div>"
      ]
     },
     "metadata": {},
     "output_type": "display_data"
    },
    {
     "data": {
      "text/plain": [
       "'test.html'"
      ]
     },
     "execution_count": 22,
     "metadata": {},
     "output_type": "execute_result"
    }
   ],
   "source": [
    "layout = go.Layout(\n",
    "    paper_bgcolor='rgba(0,0,0,0)',\n",
    "    plot_bgcolor='rgba(0,0,0,0)'\n",
    ")\n",
    "\n",
    "\n",
    "fig = go.Figure(layout = layout)\n",
    "\n",
    "for trace in edge_trace:\n",
    "    fig.add_trace(trace)\n",
    "\n",
    "fig.add_trace(node_trace)\n",
    "\n",
    "fig.update_layout(showlegend = False)\n",
    "\n",
    "fig.update_xaxes(showticklabels = False)\n",
    "\n",
    "fig.update_yaxes(showticklabels = False)\n",
    "\n",
    "fig.show()\n",
    "#py.iplot(fig, filename='a_winters_tale4-4_network')\n",
    "py.plot(fig, filename='test.html')"
   ]
  },
  {
   "cell_type": "markdown",
   "id": "2293769a",
   "metadata": {},
   "source": [
    "# Alternate Plotting Method"
   ]
  },
  {
   "cell_type": "code",
   "execution_count": 9,
   "id": "d7ce90d0",
   "metadata": {},
   "outputs": [],
   "source": [
    "import networkx as nx\n",
    "import matplotlib.pyplot as plt"
   ]
  },
  {
   "cell_type": "code",
   "execution_count": null,
   "id": "a659292f",
   "metadata": {},
   "outputs": [],
   "source": [
    "winters_tale_"
   ]
  }
 ],
 "metadata": {
  "kernelspec": {
   "display_name": "Python 3",
   "language": "python",
   "name": "python3"
  },
  "language_info": {
   "codemirror_mode": {
    "name": "ipython",
    "version": 3
   },
   "file_extension": ".py",
   "mimetype": "text/x-python",
   "name": "python",
   "nbconvert_exporter": "python",
   "pygments_lexer": "ipython3",
   "version": "3.9.2"
  }
 },
 "nbformat": 4,
 "nbformat_minor": 5
}
